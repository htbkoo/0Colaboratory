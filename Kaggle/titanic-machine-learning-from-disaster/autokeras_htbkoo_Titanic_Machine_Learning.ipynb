{
 "cells": [
  {
   "cell_type": "markdown",
   "metadata": {
    "colab_type": "text",
    "id": "view-in-github"
   },
   "source": [
    "<a href=\"https://colab.research.google.com/github/htbkoo/0Colaboratory/blob/master/Kaggle/titanic-machine-learning-from-disaster/(xgboost)_htbkoo_Titanic__Machine_Learning.ipynb\" target=\"_parent\"><img src=\"https://colab.research.google.com/assets/colab-badge.svg\" alt=\"Open In Colab\"/></a>"
   ]
  },
  {
   "cell_type": "markdown",
   "metadata": {},
   "source": [
    "### Setup"
   ]
  },
  {
   "cell_type": "markdown",
   "metadata": {
    "colab_type": "text",
    "id": "ARrRhwqijPzN"
   },
   "source": [
    "## Limiting GPU memory growth\n",
    "\n",
    "By default, TensorFlow maps nearly all of the GPU memory of all GPUs (subject to\n",
    "[`CUDA_VISIBLE_DEVICES`](https://docs.nvidia.com/cuda/cuda-c-programming-guide/index.html#env-vars)) visible to the process. This is done to more efficiently use the relatively precious GPU memory resources on the devices by reducing memory fragmentation. To limit TensorFlow to a specific set of GPUs we use the `tf.config.experimental.set_visible_devices` method."
   ]
  },
  {
   "cell_type": "code",
   "execution_count": 15,
   "metadata": {
    "colab": {
     "height": 34
    },
    "colab_type": "code",
    "id": "hPI--n_jhZhv",
    "outputId": "0a52d17f-743b-4657-93a8-ee3ece54271a"
   },
   "outputs": [
    {
     "name": "stdout",
     "output_type": "stream",
     "text": [
      "ok, 'set_memory_growth' for all gpus to True\n"
     ]
    }
   ],
   "source": [
    "import tensorflow as tf\n",
    "\n",
    "TF_MEMORY_GROWTH_CONFIG = True\n",
    "\n",
    "gpus = tf.config.experimental.list_physical_devices('GPU')\n",
    "if gpus:\n",
    "  try:\n",
    "    # Currently, memory growth needs to be the same across GPUs\n",
    "    for gpu in gpus:\n",
    "      tf.config.experimental.set_memory_growth(gpu, TF_MEMORY_GROWTH_CONFIG)\n",
    "#     logical_gpus = tf.config.experimental.list_logical_devices('GPU')\n",
    "#     print(len(gpus), \"Physical GPUs,\", len(logical_gpus), \"Logical GPUs\")  # hiding to avoid leaking information into outputs\n",
    "    print(f\"ok, 'set_memory_growth' for all gpus to {TF_MEMORY_GROWTH_CONFIG}\")\n",
    "  except RuntimeError as e:\n",
    "    # Memory growth must be set before GPUs have been initialized\n",
    "    print(e)"
   ]
  },
  {
   "cell_type": "markdown",
   "metadata": {},
   "source": [
    "### Actual Notebook"
   ]
  },
  {
   "cell_type": "markdown",
   "metadata": {},
   "source": [
    "#### Imports"
   ]
  },
  {
   "cell_type": "code",
   "execution_count": 16,
   "metadata": {
    "_cell_guid": "b1076dfc-b9ad-4769-8c92-a6c4dae69d19",
    "_uuid": "8f2839f25d086af736a60e9eeb907d3b93b6e0e5",
    "colab": {
     "base_uri": "https://localhost:8080/",
     "height": 35
    },
    "colab_type": "code",
    "id": "Ogd5VGvlChse",
    "outputId": "c9a3fc87-9ff7-4a8f-c626-9a3eff15f009"
   },
   "outputs": [],
   "source": [
    "# This Python 3 environment comes with many helpful analytics libraries installed\n",
    "# It is defined by the kaggle/python docker image: https://github.com/kaggle/docker-python\n",
    "# For example, here's several helpful packages to load in\n",
    "\n",
    "import numpy as np # linear algebra\n",
    "import pandas as pd # data processing, CSV file I/O (e.g. pd.read_csv)\n",
    "\n",
    "# Input data files are available in the \"../input/\" directory.\n",
    "# For example, running this (by clicking run or pressing Shift+Enter) will list the files in the input directory\n",
    "\n",
    "import os\n",
    "\n",
    "# Any results you write to the current directory are saved as output."
   ]
  },
  {
   "cell_type": "code",
   "execution_count": 25,
   "metadata": {},
   "outputs": [],
   "source": [
    "import tensorflow as tf\n",
    "import autokeras as ak"
   ]
  },
  {
   "cell_type": "markdown",
   "metadata": {},
   "source": [
    "#### Train / Test data setup"
   ]
  },
  {
   "cell_type": "code",
   "execution_count": 17,
   "metadata": {
    "collapsed": false,
    "jupyter": {
     "outputs_hidden": false
    },
    "pycharm": {
     "name": "#%%\n"
    }
   },
   "outputs": [
    {
     "name": "stdout",
     "output_type": "stream",
     "text": [
      "['test.csv', 'train.csv']\n"
     ]
    }
   ],
   "source": [
    "data_folder = './local_data'\n",
    "print(os.listdir(data_folder))"
   ]
  },
  {
   "cell_type": "code",
   "execution_count": 18,
   "metadata": {
    "collapsed": false,
    "jupyter": {
     "outputs_hidden": false
    },
    "pycharm": {
     "name": "#%%\n"
    }
   },
   "outputs": [],
   "source": [
    "train_data_path = f'{data_folder}/train.csv'\n",
    "test_data_path = f'{data_folder}/test.csv'"
   ]
  },
  {
   "cell_type": "code",
   "execution_count": 26,
   "metadata": {},
   "outputs": [
    {
     "name": "stdout",
     "output_type": "stream",
     "text": [
      "Trial 3 Complete [00h 00m 02s]\n",
      "val_loss: 0.3246705234050751\n",
      "\n",
      "Best val_loss So Far: 0.1598200649023056\n",
      "Total elapsed time: 00h 00m 06s\n",
      "INFO:tensorflow:Oracle triggered exit\n",
      "Epoch 1/10\n",
      "28/28 [==============================] - 0s 2ms/step - loss: 0.3800 - mean_squared_error: 0.3800\n",
      "Epoch 2/10\n",
      "28/28 [==============================] - 0s 2ms/step - loss: 0.2253 - mean_squared_error: 0.2253\n",
      "Epoch 3/10\n",
      "28/28 [==============================] - 0s 2ms/step - loss: 0.1807 - mean_squared_error: 0.1807\n",
      "Epoch 4/10\n",
      "28/28 [==============================] - 0s 2ms/step - loss: 0.1618 - mean_squared_error: 0.1618\n",
      "Epoch 5/10\n",
      "28/28 [==============================] - 0s 2ms/step - loss: 0.1509 - mean_squared_error: 0.1509\n",
      "Epoch 6/10\n",
      "28/28 [==============================] - 0s 2ms/step - loss: 0.1428 - mean_squared_error: 0.1428\n",
      "Epoch 7/10\n",
      "28/28 [==============================] - 0s 2ms/step - loss: 0.1368 - mean_squared_error: 0.1368\n",
      "Epoch 8/10\n",
      "28/28 [==============================] - 0s 2ms/step - loss: 0.1321 - mean_squared_error: 0.1321\n",
      "Epoch 9/10\n",
      "28/28 [==============================] - 0s 2ms/step - loss: 0.1285 - mean_squared_error: 0.1285\n",
      "Epoch 10/10\n",
      "28/28 [==============================] - 0s 2ms/step - loss: 0.1254 - mean_squared_error: 0.1254\n",
      "WARNING:tensorflow:From /usr/local/lib/python3.6/dist-packages/tensorflow/python/training/tracking/tracking.py:111: Model.state_updates (from tensorflow.python.keras.engine.training) is deprecated and will be removed in a future version.\n",
      "Instructions for updating:\n",
      "This property should not be used in TensorFlow 2.0, as updates are applied automatically.\n",
      "WARNING:tensorflow:From /usr/local/lib/python3.6/dist-packages/tensorflow/python/training/tracking/tracking.py:111: Layer.updates (from tensorflow.python.keras.engine.base_layer) is deprecated and will be removed in a future version.\n",
      "Instructions for updating:\n",
      "This property should not be used in TensorFlow 2.0, as updates are applied automatically.\n",
      "INFO:tensorflow:Assets written to: ./structured_data_regressor/best_model/assets\n",
      "WARNING:tensorflow:5 out of the last 5 calls to <function recreate_function.<locals>.restored_function_body at 0x7fd96058f400> triggered tf.function retracing. Tracing is expensive and the excessive number of tracings could be due to (1) creating @tf.function repeatedly in a loop, (2) passing tensors with different shapes, (3) passing Python objects instead of tensors. For (1), please define your @tf.function outside of the loop. For (2), @tf.function has experimental_relax_shapes=True option that relaxes argument shapes that can avoid unnecessary retracing. For (3), please refer to https://www.tensorflow.org/tutorials/customization/performance#python_or_tensor_args and https://www.tensorflow.org/api_docs/python/tf/function for  more details.\n",
      "WARNING:tensorflow:6 out of the last 6 calls to <function recreate_function.<locals>.restored_function_body at 0x7fd9605c1ae8> triggered tf.function retracing. Tracing is expensive and the excessive number of tracings could be due to (1) creating @tf.function repeatedly in a loop, (2) passing tensors with different shapes, (3) passing Python objects instead of tensors. For (1), please define your @tf.function outside of the loop. For (2), @tf.function has experimental_relax_shapes=True option that relaxes argument shapes that can avoid unnecessary retracing. For (3), please refer to https://www.tensorflow.org/tutorials/customization/performance#python_or_tensor_args and https://www.tensorflow.org/api_docs/python/tf/function for  more details.\n",
      "WARNING:tensorflow:7 out of the last 7 calls to <function recreate_function.<locals>.restored_function_body at 0x7fd9604ab1e0> triggered tf.function retracing. Tracing is expensive and the excessive number of tracings could be due to (1) creating @tf.function repeatedly in a loop, (2) passing tensors with different shapes, (3) passing Python objects instead of tensors. For (1), please define your @tf.function outside of the loop. For (2), @tf.function has experimental_relax_shapes=True option that relaxes argument shapes that can avoid unnecessary retracing. For (3), please refer to https://www.tensorflow.org/tutorials/customization/performance#python_or_tensor_args and https://www.tensorflow.org/api_docs/python/tf/function for  more details.\n",
      "WARNING:tensorflow:8 out of the last 8 calls to <function recreate_function.<locals>.restored_function_body at 0x7fd960511bf8> triggered tf.function retracing. Tracing is expensive and the excessive number of tracings could be due to (1) creating @tf.function repeatedly in a loop, (2) passing tensors with different shapes, (3) passing Python objects instead of tensors. For (1), please define your @tf.function outside of the loop. For (2), @tf.function has experimental_relax_shapes=True option that relaxes argument shapes that can avoid unnecessary retracing. For (3), please refer to https://www.tensorflow.org/tutorials/customization/performance#python_or_tensor_args and https://www.tensorflow.org/api_docs/python/tf/function for  more details.\n"
     ]
    },
    {
     "ename": "KeyError",
     "evalue": "'Survived'",
     "output_type": "error",
     "traceback": [
      "\u001b[0;31m\u001b[0m",
      "\u001b[0;31mKeyError\u001b[0mTraceback (most recent call last)",
      "\u001b[0;32m/usr/local/lib/python3.6/dist-packages/pandas/core/indexes/base.py\u001b[0m in \u001b[0;36mget_loc\u001b[0;34m(self, key, method, tolerance)\u001b[0m\n\u001b[1;32m   2890\u001b[0m             \u001b[0;32mtry\u001b[0m\u001b[0;34m:\u001b[0m\u001b[0;34m\u001b[0m\u001b[0;34m\u001b[0m\u001b[0m\n\u001b[0;32m-> 2891\u001b[0;31m                 \u001b[0;32mreturn\u001b[0m \u001b[0mself\u001b[0m\u001b[0;34m.\u001b[0m\u001b[0m_engine\u001b[0m\u001b[0;34m.\u001b[0m\u001b[0mget_loc\u001b[0m\u001b[0;34m(\u001b[0m\u001b[0mcasted_key\u001b[0m\u001b[0;34m)\u001b[0m\u001b[0;34m\u001b[0m\u001b[0;34m\u001b[0m\u001b[0m\n\u001b[0m\u001b[1;32m   2892\u001b[0m             \u001b[0;32mexcept\u001b[0m \u001b[0mKeyError\u001b[0m \u001b[0;32mas\u001b[0m \u001b[0merr\u001b[0m\u001b[0;34m:\u001b[0m\u001b[0;34m\u001b[0m\u001b[0;34m\u001b[0m\u001b[0m\n",
      "\u001b[0;32mpandas/_libs/index.pyx\u001b[0m in \u001b[0;36mpandas._libs.index.IndexEngine.get_loc\u001b[0;34m()\u001b[0m\n",
      "\u001b[0;32mpandas/_libs/index.pyx\u001b[0m in \u001b[0;36mpandas._libs.index.IndexEngine.get_loc\u001b[0;34m()\u001b[0m\n",
      "\u001b[0;32mpandas/_libs/hashtable_class_helper.pxi\u001b[0m in \u001b[0;36mpandas._libs.hashtable.PyObjectHashTable.get_item\u001b[0;34m()\u001b[0m\n",
      "\u001b[0;32mpandas/_libs/hashtable_class_helper.pxi\u001b[0m in \u001b[0;36mpandas._libs.hashtable.PyObjectHashTable.get_item\u001b[0;34m()\u001b[0m\n",
      "\u001b[0;31mKeyError\u001b[0m: 'Survived'",
      "\nThe above exception was the direct cause of the following exception:\n",
      "\u001b[0;31mKeyError\u001b[0mTraceback (most recent call last)",
      "\u001b[0;32m<ipython-input-26-31368e918988>\u001b[0m in \u001b[0;36m<module>\u001b[0;34m\u001b[0m\n\u001b[1;32m     13\u001b[0m \u001b[0mpredicted_y\u001b[0m \u001b[0;34m=\u001b[0m \u001b[0mreg\u001b[0m\u001b[0;34m.\u001b[0m\u001b[0mpredict\u001b[0m\u001b[0;34m(\u001b[0m\u001b[0mtest_data_path\u001b[0m\u001b[0;34m)\u001b[0m\u001b[0;34m\u001b[0m\u001b[0;34m\u001b[0m\u001b[0m\n\u001b[1;32m     14\u001b[0m \u001b[0;31m# Evaluate the best model with testing data.\u001b[0m\u001b[0;34m\u001b[0m\u001b[0;34m\u001b[0m\u001b[0;34m\u001b[0m\u001b[0m\n\u001b[0;32m---> 15\u001b[0;31m \u001b[0mprint\u001b[0m\u001b[0;34m(\u001b[0m\u001b[0mreg\u001b[0m\u001b[0;34m.\u001b[0m\u001b[0mevaluate\u001b[0m\u001b[0;34m(\u001b[0m\u001b[0mtest_data_path\u001b[0m\u001b[0;34m,\u001b[0m \u001b[0;34m'Survived'\u001b[0m\u001b[0;34m)\u001b[0m\u001b[0;34m)\u001b[0m\u001b[0;34m\u001b[0m\u001b[0;34m\u001b[0m\u001b[0m\n\u001b[0m",
      "\u001b[0;32m/usr/local/lib/python3.6/dist-packages/autokeras/tasks/structured_data.py\u001b[0m in \u001b[0;36mevaluate\u001b[0;34m(self, x, y, **kwargs)\u001b[0m\n\u001b[1;32m    177\u001b[0m         \"\"\"\n\u001b[1;32m    178\u001b[0m         \u001b[0;32mif\u001b[0m \u001b[0misinstance\u001b[0m\u001b[0;34m(\u001b[0m\u001b[0mx\u001b[0m\u001b[0;34m,\u001b[0m \u001b[0mstr\u001b[0m\u001b[0;34m)\u001b[0m\u001b[0;34m:\u001b[0m\u001b[0;34m\u001b[0m\u001b[0;34m\u001b[0m\u001b[0m\n\u001b[0;32m--> 179\u001b[0;31m             \u001b[0mx\u001b[0m\u001b[0;34m,\u001b[0m \u001b[0my\u001b[0m \u001b[0;34m=\u001b[0m \u001b[0mself\u001b[0m\u001b[0;34m.\u001b[0m\u001b[0m_read_from_csv\u001b[0m\u001b[0;34m(\u001b[0m\u001b[0mx\u001b[0m\u001b[0;34m,\u001b[0m \u001b[0my\u001b[0m\u001b[0;34m)\u001b[0m\u001b[0;34m\u001b[0m\u001b[0;34m\u001b[0m\u001b[0m\n\u001b[0m\u001b[1;32m    180\u001b[0m         \u001b[0;32mreturn\u001b[0m \u001b[0msuper\u001b[0m\u001b[0;34m(\u001b[0m\u001b[0;34m)\u001b[0m\u001b[0;34m.\u001b[0m\u001b[0mevaluate\u001b[0m\u001b[0;34m(\u001b[0m\u001b[0mx\u001b[0m\u001b[0;34m=\u001b[0m\u001b[0mx\u001b[0m\u001b[0;34m,\u001b[0m \u001b[0my\u001b[0m\u001b[0;34m=\u001b[0m\u001b[0my\u001b[0m\u001b[0;34m,\u001b[0m \u001b[0;34m**\u001b[0m\u001b[0mkwargs\u001b[0m\u001b[0;34m)\u001b[0m\u001b[0;34m\u001b[0m\u001b[0;34m\u001b[0m\u001b[0m\n\u001b[1;32m    181\u001b[0m \u001b[0;34m\u001b[0m\u001b[0m\n",
      "\u001b[0;32m/usr/local/lib/python3.6/dist-packages/autokeras/tasks/structured_data.py\u001b[0m in \u001b[0;36m_read_from_csv\u001b[0;34m(x, y)\u001b[0m\n\u001b[1;32m     41\u001b[0m     \u001b[0;32mdef\u001b[0m \u001b[0m_read_from_csv\u001b[0m\u001b[0;34m(\u001b[0m\u001b[0mx\u001b[0m\u001b[0;34m,\u001b[0m \u001b[0my\u001b[0m\u001b[0;34m)\u001b[0m\u001b[0;34m:\u001b[0m\u001b[0;34m\u001b[0m\u001b[0;34m\u001b[0m\u001b[0m\n\u001b[1;32m     42\u001b[0m         \u001b[0mdf\u001b[0m \u001b[0;34m=\u001b[0m \u001b[0mpd\u001b[0m\u001b[0;34m.\u001b[0m\u001b[0mread_csv\u001b[0m\u001b[0;34m(\u001b[0m\u001b[0mx\u001b[0m\u001b[0;34m)\u001b[0m\u001b[0;34m\u001b[0m\u001b[0;34m\u001b[0m\u001b[0m\n\u001b[0;32m---> 43\u001b[0;31m         \u001b[0mtarget\u001b[0m \u001b[0;34m=\u001b[0m \u001b[0mdf\u001b[0m\u001b[0;34m.\u001b[0m\u001b[0mpop\u001b[0m\u001b[0;34m(\u001b[0m\u001b[0my\u001b[0m\u001b[0;34m)\u001b[0m\u001b[0;34m.\u001b[0m\u001b[0mto_numpy\u001b[0m\u001b[0;34m(\u001b[0m\u001b[0;34m)\u001b[0m\u001b[0;34m\u001b[0m\u001b[0;34m\u001b[0m\u001b[0m\n\u001b[0m\u001b[1;32m     44\u001b[0m         \u001b[0;32mreturn\u001b[0m \u001b[0mdf\u001b[0m\u001b[0;34m,\u001b[0m \u001b[0mtarget\u001b[0m\u001b[0;34m\u001b[0m\u001b[0;34m\u001b[0m\u001b[0m\n\u001b[1;32m     45\u001b[0m \u001b[0;34m\u001b[0m\u001b[0m\n",
      "\u001b[0;32m/usr/local/lib/python3.6/dist-packages/pandas/core/frame.py\u001b[0m in \u001b[0;36mpop\u001b[0;34m(self, item)\u001b[0m\n\u001b[1;32m   4364\u001b[0m         \u001b[0;36m3\u001b[0m  \u001b[0mmonkey\u001b[0m        \u001b[0mNaN\u001b[0m\u001b[0;34m\u001b[0m\u001b[0;34m\u001b[0m\u001b[0m\n\u001b[1;32m   4365\u001b[0m         \"\"\"\n\u001b[0;32m-> 4366\u001b[0;31m         \u001b[0;32mreturn\u001b[0m \u001b[0msuper\u001b[0m\u001b[0;34m(\u001b[0m\u001b[0;34m)\u001b[0m\u001b[0;34m.\u001b[0m\u001b[0mpop\u001b[0m\u001b[0;34m(\u001b[0m\u001b[0mitem\u001b[0m\u001b[0;34m=\u001b[0m\u001b[0mitem\u001b[0m\u001b[0;34m)\u001b[0m\u001b[0;34m\u001b[0m\u001b[0;34m\u001b[0m\u001b[0m\n\u001b[0m\u001b[1;32m   4367\u001b[0m \u001b[0;34m\u001b[0m\u001b[0m\n\u001b[1;32m   4368\u001b[0m     \u001b[0;34m@\u001b[0m\u001b[0mdoc\u001b[0m\u001b[0;34m(\u001b[0m\u001b[0mNDFrame\u001b[0m\u001b[0;34m.\u001b[0m\u001b[0mreplace\u001b[0m\u001b[0;34m,\u001b[0m \u001b[0;34m**\u001b[0m\u001b[0m_shared_doc_kwargs\u001b[0m\u001b[0;34m)\u001b[0m\u001b[0;34m\u001b[0m\u001b[0;34m\u001b[0m\u001b[0m\n",
      "\u001b[0;32m/usr/local/lib/python3.6/dist-packages/pandas/core/generic.py\u001b[0m in \u001b[0;36mpop\u001b[0;34m(self, item)\u001b[0m\n\u001b[1;32m    659\u001b[0m \u001b[0;34m\u001b[0m\u001b[0m\n\u001b[1;32m    660\u001b[0m     \u001b[0;32mdef\u001b[0m \u001b[0mpop\u001b[0m\u001b[0;34m(\u001b[0m\u001b[0mself\u001b[0m\u001b[0;34m,\u001b[0m \u001b[0mitem\u001b[0m\u001b[0;34m:\u001b[0m \u001b[0mLabel\u001b[0m\u001b[0;34m)\u001b[0m \u001b[0;34m->\u001b[0m \u001b[0mUnion\u001b[0m\u001b[0;34m[\u001b[0m\u001b[0;34m\"Series\"\u001b[0m\u001b[0;34m,\u001b[0m \u001b[0mAny\u001b[0m\u001b[0;34m]\u001b[0m\u001b[0;34m:\u001b[0m\u001b[0;34m\u001b[0m\u001b[0;34m\u001b[0m\u001b[0m\n\u001b[0;32m--> 661\u001b[0;31m         \u001b[0mresult\u001b[0m \u001b[0;34m=\u001b[0m \u001b[0mself\u001b[0m\u001b[0;34m[\u001b[0m\u001b[0mitem\u001b[0m\u001b[0;34m]\u001b[0m\u001b[0;34m\u001b[0m\u001b[0;34m\u001b[0m\u001b[0m\n\u001b[0m\u001b[1;32m    662\u001b[0m         \u001b[0;32mdel\u001b[0m \u001b[0mself\u001b[0m\u001b[0;34m[\u001b[0m\u001b[0mitem\u001b[0m\u001b[0;34m]\u001b[0m\u001b[0;34m\u001b[0m\u001b[0;34m\u001b[0m\u001b[0m\n\u001b[1;32m    663\u001b[0m         \u001b[0;32mif\u001b[0m \u001b[0mself\u001b[0m\u001b[0;34m.\u001b[0m\u001b[0mndim\u001b[0m \u001b[0;34m==\u001b[0m \u001b[0;36m2\u001b[0m\u001b[0;34m:\u001b[0m\u001b[0;34m\u001b[0m\u001b[0;34m\u001b[0m\u001b[0m\n",
      "\u001b[0;32m/usr/local/lib/python3.6/dist-packages/pandas/core/frame.py\u001b[0m in \u001b[0;36m__getitem__\u001b[0;34m(self, key)\u001b[0m\n\u001b[1;32m   2900\u001b[0m             \u001b[0;32mif\u001b[0m \u001b[0mself\u001b[0m\u001b[0;34m.\u001b[0m\u001b[0mcolumns\u001b[0m\u001b[0;34m.\u001b[0m\u001b[0mnlevels\u001b[0m \u001b[0;34m>\u001b[0m \u001b[0;36m1\u001b[0m\u001b[0;34m:\u001b[0m\u001b[0;34m\u001b[0m\u001b[0;34m\u001b[0m\u001b[0m\n\u001b[1;32m   2901\u001b[0m                 \u001b[0;32mreturn\u001b[0m \u001b[0mself\u001b[0m\u001b[0;34m.\u001b[0m\u001b[0m_getitem_multilevel\u001b[0m\u001b[0;34m(\u001b[0m\u001b[0mkey\u001b[0m\u001b[0;34m)\u001b[0m\u001b[0;34m\u001b[0m\u001b[0;34m\u001b[0m\u001b[0m\n\u001b[0;32m-> 2902\u001b[0;31m             \u001b[0mindexer\u001b[0m \u001b[0;34m=\u001b[0m \u001b[0mself\u001b[0m\u001b[0;34m.\u001b[0m\u001b[0mcolumns\u001b[0m\u001b[0;34m.\u001b[0m\u001b[0mget_loc\u001b[0m\u001b[0;34m(\u001b[0m\u001b[0mkey\u001b[0m\u001b[0;34m)\u001b[0m\u001b[0;34m\u001b[0m\u001b[0;34m\u001b[0m\u001b[0m\n\u001b[0m\u001b[1;32m   2903\u001b[0m             \u001b[0;32mif\u001b[0m \u001b[0mis_integer\u001b[0m\u001b[0;34m(\u001b[0m\u001b[0mindexer\u001b[0m\u001b[0;34m)\u001b[0m\u001b[0;34m:\u001b[0m\u001b[0;34m\u001b[0m\u001b[0;34m\u001b[0m\u001b[0m\n\u001b[1;32m   2904\u001b[0m                 \u001b[0mindexer\u001b[0m \u001b[0;34m=\u001b[0m \u001b[0;34m[\u001b[0m\u001b[0mindexer\u001b[0m\u001b[0;34m]\u001b[0m\u001b[0;34m\u001b[0m\u001b[0;34m\u001b[0m\u001b[0m\n",
      "\u001b[0;32m/usr/local/lib/python3.6/dist-packages/pandas/core/indexes/base.py\u001b[0m in \u001b[0;36mget_loc\u001b[0;34m(self, key, method, tolerance)\u001b[0m\n\u001b[1;32m   2891\u001b[0m                 \u001b[0;32mreturn\u001b[0m \u001b[0mself\u001b[0m\u001b[0;34m.\u001b[0m\u001b[0m_engine\u001b[0m\u001b[0;34m.\u001b[0m\u001b[0mget_loc\u001b[0m\u001b[0;34m(\u001b[0m\u001b[0mcasted_key\u001b[0m\u001b[0;34m)\u001b[0m\u001b[0;34m\u001b[0m\u001b[0;34m\u001b[0m\u001b[0m\n\u001b[1;32m   2892\u001b[0m             \u001b[0;32mexcept\u001b[0m \u001b[0mKeyError\u001b[0m \u001b[0;32mas\u001b[0m \u001b[0merr\u001b[0m\u001b[0;34m:\u001b[0m\u001b[0;34m\u001b[0m\u001b[0;34m\u001b[0m\u001b[0m\n\u001b[0;32m-> 2893\u001b[0;31m                 \u001b[0;32mraise\u001b[0m \u001b[0mKeyError\u001b[0m\u001b[0;34m(\u001b[0m\u001b[0mkey\u001b[0m\u001b[0;34m)\u001b[0m \u001b[0;32mfrom\u001b[0m \u001b[0merr\u001b[0m\u001b[0;34m\u001b[0m\u001b[0;34m\u001b[0m\u001b[0m\n\u001b[0m\u001b[1;32m   2894\u001b[0m \u001b[0;34m\u001b[0m\u001b[0m\n\u001b[1;32m   2895\u001b[0m         \u001b[0;32mif\u001b[0m \u001b[0mtolerance\u001b[0m \u001b[0;32mis\u001b[0m \u001b[0;32mnot\u001b[0m \u001b[0;32mNone\u001b[0m\u001b[0;34m:\u001b[0m\u001b[0;34m\u001b[0m\u001b[0;34m\u001b[0m\u001b[0m\n",
      "\u001b[0;31mKeyError\u001b[0m: 'Survived'"
     ]
    }
   ],
   "source": [
    "# Initialize the structured data classifier.\n",
    "clf = ak.StructuredDataClassifier(\n",
    "    overwrite=True,\n",
    "    max_trials=3) # It tries 3 different models.\n",
    "# Feed the structured data classifier with training data.\n",
    "clf.fit(\n",
    "    # The path to the train.csv file.\n",
    "    train_data_path,\n",
    "    # The name of the label column.\n",
    "    'Survived',\n",
    "    epochs=10)\n",
    "# Predict with the best model.\n",
    "predicted_y = clf.predict(test_data_path)\n",
    "# Evaluate the best model with testing data.\n",
    "# print(clf.evaluate(test_file_path, 'survived'))\n"
   ]
  },
  {
   "cell_type": "code",
   "execution_count": 27,
   "metadata": {},
   "outputs": [
    {
     "data": {
      "text/plain": [
       "array([[ 1.77632302e-01],\n",
       "       [ 4.52613115e-01],\n",
       "       [ 3.82916987e-01],\n",
       "       [ 2.49574363e-01],\n",
       "       [ 4.08785194e-01],\n",
       "       [ 2.64195949e-01],\n",
       "       [ 2.98569173e-01],\n",
       "       [ 3.06525379e-01],\n",
       "       [ 8.00926030e-01],\n",
       "       [ 3.28331590e-02],\n",
       "       [ 2.31569529e-01],\n",
       "       [ 3.04002851e-01],\n",
       "       [ 1.03733134e+00],\n",
       "       [ 2.50858307e-01],\n",
       "       [ 1.01848197e+00],\n",
       "       [ 9.65063989e-01],\n",
       "       [ 4.99152660e-01],\n",
       "       [ 2.35689700e-01],\n",
       "       [ 5.75449109e-01],\n",
       "       [ 6.03925705e-01],\n",
       "       [ 7.65643567e-02],\n",
       "       [ 1.77708864e-01],\n",
       "       [ 1.09720159e+00],\n",
       "       [ 4.24487665e-02],\n",
       "       [ 4.05896962e-01],\n",
       "       [-4.08735052e-02],\n",
       "       [ 6.06920123e-01],\n",
       "       [ 2.35114545e-01],\n",
       "       [ 3.14378709e-01],\n",
       "       [-3.40920687e-01],\n",
       "       [ 2.39385247e-01],\n",
       "       [ 2.71109074e-01],\n",
       "       [ 5.24964392e-01],\n",
       "       [ 6.98009372e-01],\n",
       "       [ 4.24074918e-01],\n",
       "       [ 2.37057954e-01],\n",
       "       [ 8.37816060e-01],\n",
       "       [ 7.97066867e-01],\n",
       "       [ 2.50351906e-01],\n",
       "       [ 1.88953936e-01],\n",
       "       [-4.85994294e-02],\n",
       "       [ 3.13609004e-01],\n",
       "       [ 2.32988805e-01],\n",
       "       [ 9.85215783e-01],\n",
       "       [ 1.20617235e+00],\n",
       "       [ 2.51995325e-01],\n",
       "       [ 2.64244467e-01],\n",
       "       [ 2.90623009e-01],\n",
       "       [ 1.12314057e+00],\n",
       "       [ 5.15376627e-01],\n",
       "       [ 2.18815446e-01],\n",
       "       [ 4.34806913e-01],\n",
       "       [ 8.14546883e-01],\n",
       "       [ 4.54589188e-01],\n",
       "       [ 4.76297915e-01],\n",
       "       [ 4.01346162e-02],\n",
       "       [ 2.40622789e-01],\n",
       "       [ 3.11998665e-01],\n",
       "       [-1.63616806e-01],\n",
       "       [ 8.82242382e-01],\n",
       "       [ 2.60862887e-01],\n",
       "       [ 3.47160310e-01],\n",
       "       [ 2.59793371e-01],\n",
       "       [ 7.17780828e-01],\n",
       "       [ 2.66202778e-01],\n",
       "       [ 1.12823868e+00],\n",
       "       [ 7.58762181e-01],\n",
       "       [ 9.09171626e-02],\n",
       "       [ 2.51792163e-01],\n",
       "       [ 2.90363282e-01],\n",
       "       [ 6.96912467e-01],\n",
       "       [ 2.56122082e-01],\n",
       "       [ 7.74682045e-01],\n",
       "       [ 2.48174489e-01],\n",
       "       [ 6.82327688e-01],\n",
       "       [-1.74561799e-01],\n",
       "       [ 2.31266707e-01],\n",
       "       [ 1.00102377e+00],\n",
       "       [ 3.63912493e-01],\n",
       "       [ 6.96448624e-01],\n",
       "       [ 8.28896239e-02],\n",
       "       [-5.04173711e-02],\n",
       "       [ 3.28853339e-01],\n",
       "       [ 2.31298536e-01],\n",
       "       [ 5.58828354e-01],\n",
       "       [ 1.43637359e-01],\n",
       "       [ 6.65620327e-01],\n",
       "       [ 8.08119893e-01],\n",
       "       [ 8.97953689e-01],\n",
       "       [-8.63895640e-02],\n",
       "       [ 6.40988767e-01],\n",
       "       [ 2.31287092e-01],\n",
       "       [ 1.13837349e+00],\n",
       "       [ 2.31020331e-01],\n",
       "       [ 2.50745237e-01],\n",
       "       [ 2.51369685e-01],\n",
       "       [ 1.16332781e+00],\n",
       "       [ 2.46700972e-01],\n",
       "       [ 8.02846432e-01],\n",
       "       [ 2.42036939e-01],\n",
       "       [ 8.27038050e-01],\n",
       "       [-3.92999351e-02],\n",
       "       [ 2.87577540e-01],\n",
       "       [ 2.50146151e-01],\n",
       "       [ 4.55488563e-01],\n",
       "       [ 7.56117180e-02],\n",
       "       [ 2.47634917e-01],\n",
       "       [ 2.87300646e-01],\n",
       "       [ 2.30230153e-01],\n",
       "       [ 3.74211550e-01],\n",
       "       [ 3.79404485e-01],\n",
       "       [ 8.91323268e-01],\n",
       "       [ 8.49646151e-01],\n",
       "       [ 7.47593701e-01],\n",
       "       [ 6.70398235e-01],\n",
       "       [-2.06722856e-01],\n",
       "       [ 2.23482639e-01],\n",
       "       [ 7.32170939e-01],\n",
       "       [ 2.64243811e-01],\n",
       "       [ 9.30492342e-01],\n",
       "       [ 9.27291036e-01],\n",
       "       [ 2.89160490e-01],\n",
       "       [ 8.97944689e-01],\n",
       "       [ 2.48175055e-01],\n",
       "       [ 2.86359280e-01],\n",
       "       [ 6.91682696e-01],\n",
       "       [ 2.54263520e-01],\n",
       "       [ 6.57724798e-01],\n",
       "       [ 3.76639366e-01],\n",
       "       [ 2.51687527e-01],\n",
       "       [ 2.42683560e-01],\n",
       "       [ 3.03268492e-01],\n",
       "       [ 5.81317425e-01],\n",
       "       [ 1.39624387e-01],\n",
       "       [ 2.42532313e-01],\n",
       "       [ 2.51812935e-01],\n",
       "       [ 2.34569103e-01],\n",
       "       [ 3.72530133e-01],\n",
       "       [ 7.94361353e-01],\n",
       "       [ 9.39136818e-02],\n",
       "       [ 2.20345333e-02],\n",
       "       [ 1.04170978e+00],\n",
       "       [ 1.15647689e-02],\n",
       "       [ 1.00448653e-02],\n",
       "       [ 3.39083433e-01],\n",
       "       [-3.14783514e-01],\n",
       "       [ 4.26438302e-02],\n",
       "       [ 2.53657818e-01],\n",
       "       [ 2.99887717e-01],\n",
       "       [-2.30517328e-01],\n",
       "       [ 1.17725742e+00],\n",
       "       [ 2.19323605e-01],\n",
       "       [ 2.09188193e-01],\n",
       "       [ 5.57673812e-01],\n",
       "       [-4.57484275e-03],\n",
       "       [ 2.51843452e-01],\n",
       "       [ 8.58230650e-01],\n",
       "       [ 7.94232190e-01],\n",
       "       [ 3.41580212e-01],\n",
       "       [ 6.28933489e-01],\n",
       "       [ 8.76893044e-01],\n",
       "       [-3.50666046e-01],\n",
       "       [ 1.00435400e+00],\n",
       "       [ 2.30913579e-01],\n",
       "       [ 3.95430297e-01],\n",
       "       [ 4.49274361e-01],\n",
       "       [ 2.66969025e-01],\n",
       "       [ 5.78495190e-02],\n",
       "       [ 1.06752455e+00],\n",
       "       [ 8.01650882e-01],\n",
       "       [ 2.30336607e-01],\n",
       "       [ 2.34757513e-01],\n",
       "       [ 1.78875923e-01],\n",
       "       [ 2.19212323e-01],\n",
       "       [ 1.06850497e-01],\n",
       "       [ 9.07552481e-01],\n",
       "       [ 9.90734160e-01],\n",
       "       [ 2.38951534e-01],\n",
       "       [ 4.97167945e-01],\n",
       "       [ 3.17117095e-01],\n",
       "       [ 3.74759912e-01],\n",
       "       [-2.50847265e-02],\n",
       "       [ 1.09220219e+00],\n",
       "       [ 2.83165634e-01],\n",
       "       [ 8.93407345e-01],\n",
       "       [ 4.00057584e-01],\n",
       "       [ 1.00150931e+00],\n",
       "       [ 9.81110558e-02],\n",
       "       [ 2.08740011e-02],\n",
       "       [ 3.98549914e-01],\n",
       "       [-2.45576128e-02],\n",
       "       [ 2.93743491e-01],\n",
       "       [-1.12171017e-01],\n",
       "       [ 4.25991088e-01],\n",
       "       [-1.03804268e-01],\n",
       "       [ 2.42101192e-01],\n",
       "       [ 3.16286266e-01],\n",
       "       [ 8.24075222e-01],\n",
       "       [ 3.68244439e-01],\n",
       "       [ 8.66994619e-01],\n",
       "       [ 8.08590531e-01],\n",
       "       [ 7.67093822e-02],\n",
       "       [ 7.21333206e-01],\n",
       "       [ 9.71251965e-01],\n",
       "       [ 3.71136159e-01],\n",
       "       [ 2.44176596e-01],\n",
       "       [ 5.91848075e-01],\n",
       "       [ 3.68810833e-01],\n",
       "       [ 8.40628684e-01],\n",
       "       [ 2.49504685e-01],\n",
       "       [ 8.36639404e-02],\n",
       "       [ 2.30174810e-01],\n",
       "       [ 3.76109362e-01],\n",
       "       [ 8.80176723e-01],\n",
       "       [ 3.13884199e-01],\n",
       "       [ 3.46720129e-01],\n",
       "       [ 8.60959649e-01],\n",
       "       [-1.10637613e-01],\n",
       "       [ 2.93271273e-01],\n",
       "       [ 2.29194254e-01],\n",
       "       [ 1.00199091e+00],\n",
       "       [ 2.53642887e-01],\n",
       "       [ 1.00633430e+00],\n",
       "       [ 2.53894806e-01],\n",
       "       [ 7.28117943e-01],\n",
       "       [ 7.78809667e-01],\n",
       "       [ 2.51601487e-01],\n",
       "       [ 8.57385814e-01],\n",
       "       [ 9.66262966e-02],\n",
       "       [ 4.01233792e-01],\n",
       "       [ 3.11601132e-01],\n",
       "       [ 9.69071865e-01],\n",
       "       [ 1.79733783e-01],\n",
       "       [ 2.89106280e-01],\n",
       "       [ 6.06444001e-01],\n",
       "       [ 2.54768789e-01],\n",
       "       [ 4.30574059e-01],\n",
       "       [ 2.38794118e-01],\n",
       "       [ 9.74274695e-01],\n",
       "       [ 1.16886103e+00],\n",
       "       [ 7.21882939e-01],\n",
       "       [ 3.60359520e-01],\n",
       "       [ 2.94573724e-01],\n",
       "       [ 2.29344338e-01],\n",
       "       [ 4.48867753e-02],\n",
       "       [ 2.79222041e-01],\n",
       "       [ 9.79240417e-01],\n",
       "       [-2.39858389e-01],\n",
       "       [ 8.24748397e-01],\n",
       "       [ 7.76706040e-01],\n",
       "       [ 1.03288138e+00],\n",
       "       [ 2.54443973e-01],\n",
       "       [ 2.91696638e-01],\n",
       "       [ 2.48362303e-01],\n",
       "       [ 2.45545059e-01],\n",
       "       [ 2.29718029e-01],\n",
       "       [ 2.89951742e-01],\n",
       "       [ 2.45224029e-01],\n",
       "       [ 9.63347495e-01],\n",
       "       [ 2.53364027e-01],\n",
       "       [-1.00432597e-01],\n",
       "       [ 2.53245145e-01],\n",
       "       [ 5.82577944e-01],\n",
       "       [ 7.49913275e-01],\n",
       "       [ 3.83566558e-01],\n",
       "       [ 2.29562044e-01],\n",
       "       [ 2.63112485e-01],\n",
       "       [ 2.29840130e-01],\n",
       "       [ 8.68547440e-01],\n",
       "       [ 2.52854288e-01],\n",
       "       [ 2.25170016e-01],\n",
       "       [ 2.90131778e-01],\n",
       "       [ 1.09729052e+00],\n",
       "       [ 7.52332151e-01],\n",
       "       [ 2.13870108e-01],\n",
       "       [ 8.42428148e-01],\n",
       "       [ 3.74629050e-01],\n",
       "       [ 2.21680477e-02],\n",
       "       [ 3.19729298e-01],\n",
       "       [ 3.56842905e-01],\n",
       "       [ 7.99986184e-01],\n",
       "       [ 1.24122217e-01],\n",
       "       [ 8.41333508e-01],\n",
       "       [ 5.50373375e-01],\n",
       "       [ 6.99069262e-01],\n",
       "       [ 2.52828479e-01],\n",
       "       [ 2.30257064e-01],\n",
       "       [ 2.64001697e-01],\n",
       "       [ 2.09119350e-01],\n",
       "       [ 2.29691207e-01],\n",
       "       [ 3.01440418e-01],\n",
       "       [ 6.37486756e-01],\n",
       "       [ 2.12910205e-01],\n",
       "       [ 6.29789054e-01],\n",
       "       [ 2.51357257e-01],\n",
       "       [ 2.47058004e-01],\n",
       "       [ 9.91689086e-01],\n",
       "       [-4.52298224e-01],\n",
       "       [ 3.42299342e-01],\n",
       "       [ 2.49237984e-01],\n",
       "       [ 2.51237333e-01],\n",
       "       [ 4.08234835e-01],\n",
       "       [ 3.49518478e-01],\n",
       "       [ 2.48329699e-01],\n",
       "       [ 8.34912717e-01],\n",
       "       [ 5.89935303e-01],\n",
       "       [ 1.05602197e-01],\n",
       "       [-2.79560164e-02],\n",
       "       [ 6.00365698e-01],\n",
       "       [ 5.60637653e-01],\n",
       "       [ 2.52643615e-01],\n",
       "       [ 2.38755435e-01],\n",
       "       [ 2.30279356e-01],\n",
       "       [ 5.99301577e-01],\n",
       "       [ 1.21772158e+00],\n",
       "       [ 7.12023914e-01],\n",
       "       [ 8.04210424e-01],\n",
       "       [ 3.47523928e-01],\n",
       "       [ 2.49769121e-01],\n",
       "       [ 3.04391086e-01],\n",
       "       [ 2.49425292e-01],\n",
       "       [ 2.35025823e-01],\n",
       "       [ 3.91779929e-01],\n",
       "       [ 3.56931150e-01],\n",
       "       [ 9.35145557e-01],\n",
       "       [ 2.50907511e-01],\n",
       "       [ 9.86663461e-01],\n",
       "       [-3.15783098e-02],\n",
       "       [-1.06315605e-01],\n",
       "       [ 3.49465460e-01],\n",
       "       [ 7.23713219e-01],\n",
       "       [ 3.09170902e-01],\n",
       "       [ 2.10798353e-01],\n",
       "       [ 6.74112260e-01],\n",
       "       [ 2.51199186e-01],\n",
       "       [ 5.86643875e-01],\n",
       "       [ 3.90913576e-01],\n",
       "       [ 7.37754926e-02],\n",
       "       [ 3.62545639e-01],\n",
       "       [ 2.10421115e-01],\n",
       "       [ 3.43323320e-01],\n",
       "       [ 2.55211025e-01],\n",
       "       [ 1.67740107e-01],\n",
       "       [ 7.38790870e-01],\n",
       "       [-1.02196462e-01],\n",
       "       [ 8.44068825e-01],\n",
       "       [ 3.67075503e-01],\n",
       "       [ 7.15673089e-01],\n",
       "       [ 3.58802289e-01],\n",
       "       [ 9.34748769e-01],\n",
       "       [ 9.54020619e-01],\n",
       "       [ 3.62690449e-01],\n",
       "       [ 3.85811627e-01],\n",
       "       [ 1.26887947e-01],\n",
       "       [ 7.09772170e-01],\n",
       "       [ 3.86638701e-01],\n",
       "       [ 1.31493258e+00],\n",
       "       [ 2.30806351e-01],\n",
       "       [ 2.94394493e-01],\n",
       "       [ 5.74000537e-01],\n",
       "       [-7.57676437e-02],\n",
       "       [ 1.02953398e+00],\n",
       "       [ 9.61683631e-01],\n",
       "       [ 2.53084689e-01],\n",
       "       [ 7.82225013e-01],\n",
       "       [ 8.87838900e-01],\n",
       "       [-3.10869962e-01],\n",
       "       [ 8.50911856e-01],\n",
       "       [ 7.36196578e-01],\n",
       "       [ 3.76610398e-01],\n",
       "       [ 3.11204433e-01],\n",
       "       [ 9.17025208e-01],\n",
       "       [ 8.07688162e-02],\n",
       "       [ 4.40050185e-01],\n",
       "       [ 1.32381713e+00],\n",
       "       [ 8.04872572e-01],\n",
       "       [ 4.67175275e-01],\n",
       "       [ 3.46311092e-01],\n",
       "       [ 3.70108426e-01],\n",
       "       [ 6.99631870e-04],\n",
       "       [ 2.95333266e-01],\n",
       "       [ 2.78623283e-01],\n",
       "       [ 7.80639470e-01],\n",
       "       [ 5.68797469e-01],\n",
       "       [ 3.30762267e-01],\n",
       "       [ 9.27196741e-01],\n",
       "       [ 2.54282206e-01],\n",
       "       [ 4.23584580e-01],\n",
       "       [ 2.83100545e-01],\n",
       "       [-6.99368864e-03],\n",
       "       [ 2.51534820e-01],\n",
       "       [ 9.01005387e-01],\n",
       "       [ 4.07610908e-02],\n",
       "       [ 4.43899274e-01],\n",
       "       [-4.90599692e-01],\n",
       "       [ 9.22909141e-01],\n",
       "       [ 2.81077266e-01],\n",
       "       [ 1.22365355e+00],\n",
       "       [ 2.54169106e-01],\n",
       "       [ 2.72933364e-01],\n",
       "       [ 1.26749742e+00],\n",
       "       [-2.44680122e-02],\n",
       "       [ 8.65877509e-01],\n",
       "       [-4.99276444e-02],\n",
       "       [ 2.94929713e-01],\n",
       "       [ 3.26781213e-01],\n",
       "       [ 3.12679410e-01],\n",
       "       [-5.58575511e-01],\n",
       "       [ 8.04477513e-01],\n",
       "       [ 7.17775881e-01],\n",
       "       [ 8.03975940e-01],\n",
       "       [ 9.12565470e-01],\n",
       "       [ 7.90579021e-01],\n",
       "       [ 2.31785387e-01],\n",
       "       [ 8.88968885e-01],\n",
       "       [ 2.66315281e-01],\n",
       "       [ 2.31844395e-01],\n",
       "       [ 1.06143728e-02]], dtype=float32)"
      ]
     },
     "execution_count": 27,
     "metadata": {},
     "output_type": "execute_result"
    }
   ],
   "source": [
    "predicted_y"
   ]
  },
  {
   "cell_type": "markdown",
   "metadata": {},
   "source": [
    "#### Preivew of Train / Test data"
   ]
  },
  {
   "cell_type": "code",
   "execution_count": null,
   "metadata": {},
   "outputs": [],
   "source": [
    "train_data = pd.read_csv(train_data_path)\n",
    "test_data = pd.read_csv(test_data_path)"
   ]
  },
  {
   "cell_type": "code",
   "execution_count": 19,
   "metadata": {
    "_uuid": "26e3486de0d5a3a64e19988c154235decd408f16",
    "colab": {},
    "colab_type": "code",
    "id": "VTY8LmxJChsk"
   },
   "outputs": [
    {
     "data": {
      "text/html": [
       "<div>\n",
       "<style scoped>\n",
       "    .dataframe tbody tr th:only-of-type {\n",
       "        vertical-align: middle;\n",
       "    }\n",
       "\n",
       "    .dataframe tbody tr th {\n",
       "        vertical-align: top;\n",
       "    }\n",
       "\n",
       "    .dataframe thead th {\n",
       "        text-align: right;\n",
       "    }\n",
       "</style>\n",
       "<table border=\"1\" class=\"dataframe\">\n",
       "  <thead>\n",
       "    <tr style=\"text-align: right;\">\n",
       "      <th></th>\n",
       "      <th>PassengerId</th>\n",
       "      <th>Survived</th>\n",
       "      <th>Pclass</th>\n",
       "      <th>Age</th>\n",
       "      <th>SibSp</th>\n",
       "      <th>Parch</th>\n",
       "      <th>Fare</th>\n",
       "    </tr>\n",
       "  </thead>\n",
       "  <tbody>\n",
       "    <tr>\n",
       "      <th>count</th>\n",
       "      <td>891.000000</td>\n",
       "      <td>891.000000</td>\n",
       "      <td>891.000000</td>\n",
       "      <td>714.000000</td>\n",
       "      <td>891.000000</td>\n",
       "      <td>891.000000</td>\n",
       "      <td>891.000000</td>\n",
       "    </tr>\n",
       "    <tr>\n",
       "      <th>mean</th>\n",
       "      <td>446.000000</td>\n",
       "      <td>0.383838</td>\n",
       "      <td>2.308642</td>\n",
       "      <td>29.699118</td>\n",
       "      <td>0.523008</td>\n",
       "      <td>0.381594</td>\n",
       "      <td>32.204208</td>\n",
       "    </tr>\n",
       "    <tr>\n",
       "      <th>std</th>\n",
       "      <td>257.353842</td>\n",
       "      <td>0.486592</td>\n",
       "      <td>0.836071</td>\n",
       "      <td>14.526497</td>\n",
       "      <td>1.102743</td>\n",
       "      <td>0.806057</td>\n",
       "      <td>49.693429</td>\n",
       "    </tr>\n",
       "    <tr>\n",
       "      <th>min</th>\n",
       "      <td>1.000000</td>\n",
       "      <td>0.000000</td>\n",
       "      <td>1.000000</td>\n",
       "      <td>0.420000</td>\n",
       "      <td>0.000000</td>\n",
       "      <td>0.000000</td>\n",
       "      <td>0.000000</td>\n",
       "    </tr>\n",
       "    <tr>\n",
       "      <th>25%</th>\n",
       "      <td>223.500000</td>\n",
       "      <td>0.000000</td>\n",
       "      <td>2.000000</td>\n",
       "      <td>20.125000</td>\n",
       "      <td>0.000000</td>\n",
       "      <td>0.000000</td>\n",
       "      <td>7.910400</td>\n",
       "    </tr>\n",
       "    <tr>\n",
       "      <th>50%</th>\n",
       "      <td>446.000000</td>\n",
       "      <td>0.000000</td>\n",
       "      <td>3.000000</td>\n",
       "      <td>28.000000</td>\n",
       "      <td>0.000000</td>\n",
       "      <td>0.000000</td>\n",
       "      <td>14.454200</td>\n",
       "    </tr>\n",
       "    <tr>\n",
       "      <th>75%</th>\n",
       "      <td>668.500000</td>\n",
       "      <td>1.000000</td>\n",
       "      <td>3.000000</td>\n",
       "      <td>38.000000</td>\n",
       "      <td>1.000000</td>\n",
       "      <td>0.000000</td>\n",
       "      <td>31.000000</td>\n",
       "    </tr>\n",
       "    <tr>\n",
       "      <th>max</th>\n",
       "      <td>891.000000</td>\n",
       "      <td>1.000000</td>\n",
       "      <td>3.000000</td>\n",
       "      <td>80.000000</td>\n",
       "      <td>8.000000</td>\n",
       "      <td>6.000000</td>\n",
       "      <td>512.329200</td>\n",
       "    </tr>\n",
       "  </tbody>\n",
       "</table>\n",
       "</div>"
      ],
      "text/plain": [
       "       PassengerId    Survived      Pclass         Age       SibSp  \\\n",
       "count   891.000000  891.000000  891.000000  714.000000  891.000000   \n",
       "mean    446.000000    0.383838    2.308642   29.699118    0.523008   \n",
       "std     257.353842    0.486592    0.836071   14.526497    1.102743   \n",
       "min       1.000000    0.000000    1.000000    0.420000    0.000000   \n",
       "25%     223.500000    0.000000    2.000000   20.125000    0.000000   \n",
       "50%     446.000000    0.000000    3.000000   28.000000    0.000000   \n",
       "75%     668.500000    1.000000    3.000000   38.000000    1.000000   \n",
       "max     891.000000    1.000000    3.000000   80.000000    8.000000   \n",
       "\n",
       "            Parch        Fare  \n",
       "count  891.000000  891.000000  \n",
       "mean     0.381594   32.204208  \n",
       "std      0.806057   49.693429  \n",
       "min      0.000000    0.000000  \n",
       "25%      0.000000    7.910400  \n",
       "50%      0.000000   14.454200  \n",
       "75%      0.000000   31.000000  \n",
       "max      6.000000  512.329200  "
      ]
     },
     "execution_count": 19,
     "metadata": {},
     "output_type": "execute_result"
    }
   ],
   "source": [
    "train_data.describe()"
   ]
  },
  {
   "cell_type": "code",
   "execution_count": 20,
   "metadata": {
    "_uuid": "5cf55c8d957be06a10328e9292fdcac83f043669",
    "colab": {
     "base_uri": "https://localhost:8080/",
     "height": 300
    },
    "colab_type": "code",
    "id": "n24VpiwQChsp",
    "outputId": "b88a0549-6cff-4292-f9d0-45790bcc6e85"
   },
   "outputs": [
    {
     "data": {
      "text/html": [
       "<div>\n",
       "<style scoped>\n",
       "    .dataframe tbody tr th:only-of-type {\n",
       "        vertical-align: middle;\n",
       "    }\n",
       "\n",
       "    .dataframe tbody tr th {\n",
       "        vertical-align: top;\n",
       "    }\n",
       "\n",
       "    .dataframe thead th {\n",
       "        text-align: right;\n",
       "    }\n",
       "</style>\n",
       "<table border=\"1\" class=\"dataframe\">\n",
       "  <thead>\n",
       "    <tr style=\"text-align: right;\">\n",
       "      <th></th>\n",
       "      <th>PassengerId</th>\n",
       "      <th>Survived</th>\n",
       "      <th>Pclass</th>\n",
       "      <th>Name</th>\n",
       "      <th>Sex</th>\n",
       "      <th>Age</th>\n",
       "      <th>SibSp</th>\n",
       "      <th>Parch</th>\n",
       "      <th>Ticket</th>\n",
       "      <th>Fare</th>\n",
       "      <th>Cabin</th>\n",
       "      <th>Embarked</th>\n",
       "    </tr>\n",
       "  </thead>\n",
       "  <tbody>\n",
       "    <tr>\n",
       "      <th>0</th>\n",
       "      <td>1</td>\n",
       "      <td>0</td>\n",
       "      <td>3</td>\n",
       "      <td>Braund, Mr. Owen Harris</td>\n",
       "      <td>male</td>\n",
       "      <td>22.0</td>\n",
       "      <td>1</td>\n",
       "      <td>0</td>\n",
       "      <td>A/5 21171</td>\n",
       "      <td>7.2500</td>\n",
       "      <td>NaN</td>\n",
       "      <td>S</td>\n",
       "    </tr>\n",
       "    <tr>\n",
       "      <th>1</th>\n",
       "      <td>2</td>\n",
       "      <td>1</td>\n",
       "      <td>1</td>\n",
       "      <td>Cumings, Mrs. John Bradley (Florence Briggs Th...</td>\n",
       "      <td>female</td>\n",
       "      <td>38.0</td>\n",
       "      <td>1</td>\n",
       "      <td>0</td>\n",
       "      <td>PC 17599</td>\n",
       "      <td>71.2833</td>\n",
       "      <td>C85</td>\n",
       "      <td>C</td>\n",
       "    </tr>\n",
       "    <tr>\n",
       "      <th>2</th>\n",
       "      <td>3</td>\n",
       "      <td>1</td>\n",
       "      <td>3</td>\n",
       "      <td>Heikkinen, Miss. Laina</td>\n",
       "      <td>female</td>\n",
       "      <td>26.0</td>\n",
       "      <td>0</td>\n",
       "      <td>0</td>\n",
       "      <td>STON/O2. 3101282</td>\n",
       "      <td>7.9250</td>\n",
       "      <td>NaN</td>\n",
       "      <td>S</td>\n",
       "    </tr>\n",
       "    <tr>\n",
       "      <th>3</th>\n",
       "      <td>4</td>\n",
       "      <td>1</td>\n",
       "      <td>1</td>\n",
       "      <td>Futrelle, Mrs. Jacques Heath (Lily May Peel)</td>\n",
       "      <td>female</td>\n",
       "      <td>35.0</td>\n",
       "      <td>1</td>\n",
       "      <td>0</td>\n",
       "      <td>113803</td>\n",
       "      <td>53.1000</td>\n",
       "      <td>C123</td>\n",
       "      <td>S</td>\n",
       "    </tr>\n",
       "    <tr>\n",
       "      <th>4</th>\n",
       "      <td>5</td>\n",
       "      <td>0</td>\n",
       "      <td>3</td>\n",
       "      <td>Allen, Mr. William Henry</td>\n",
       "      <td>male</td>\n",
       "      <td>35.0</td>\n",
       "      <td>0</td>\n",
       "      <td>0</td>\n",
       "      <td>373450</td>\n",
       "      <td>8.0500</td>\n",
       "      <td>NaN</td>\n",
       "      <td>S</td>\n",
       "    </tr>\n",
       "  </tbody>\n",
       "</table>\n",
       "</div>"
      ],
      "text/plain": [
       "   PassengerId  Survived  Pclass  \\\n",
       "0            1         0       3   \n",
       "1            2         1       1   \n",
       "2            3         1       3   \n",
       "3            4         1       1   \n",
       "4            5         0       3   \n",
       "\n",
       "                                                Name     Sex   Age  SibSp  \\\n",
       "0                            Braund, Mr. Owen Harris    male  22.0      1   \n",
       "1  Cumings, Mrs. John Bradley (Florence Briggs Th...  female  38.0      1   \n",
       "2                             Heikkinen, Miss. Laina  female  26.0      0   \n",
       "3       Futrelle, Mrs. Jacques Heath (Lily May Peel)  female  35.0      1   \n",
       "4                           Allen, Mr. William Henry    male  35.0      0   \n",
       "\n",
       "   Parch            Ticket     Fare Cabin Embarked  \n",
       "0      0         A/5 21171   7.2500   NaN        S  \n",
       "1      0          PC 17599  71.2833   C85        C  \n",
       "2      0  STON/O2. 3101282   7.9250   NaN        S  \n",
       "3      0            113803  53.1000  C123        S  \n",
       "4      0            373450   8.0500   NaN        S  "
      ]
     },
     "execution_count": 20,
     "metadata": {},
     "output_type": "execute_result"
    }
   ],
   "source": [
    "train_data.head()"
   ]
  },
  {
   "cell_type": "code",
   "execution_count": 21,
   "metadata": {},
   "outputs": [
    {
     "data": {
      "text/html": [
       "<div>\n",
       "<style scoped>\n",
       "    .dataframe tbody tr th:only-of-type {\n",
       "        vertical-align: middle;\n",
       "    }\n",
       "\n",
       "    .dataframe tbody tr th {\n",
       "        vertical-align: top;\n",
       "    }\n",
       "\n",
       "    .dataframe thead th {\n",
       "        text-align: right;\n",
       "    }\n",
       "</style>\n",
       "<table border=\"1\" class=\"dataframe\">\n",
       "  <thead>\n",
       "    <tr style=\"text-align: right;\">\n",
       "      <th></th>\n",
       "      <th>PassengerId</th>\n",
       "      <th>Pclass</th>\n",
       "      <th>Age</th>\n",
       "      <th>SibSp</th>\n",
       "      <th>Parch</th>\n",
       "      <th>Fare</th>\n",
       "    </tr>\n",
       "  </thead>\n",
       "  <tbody>\n",
       "    <tr>\n",
       "      <th>count</th>\n",
       "      <td>418.000000</td>\n",
       "      <td>418.000000</td>\n",
       "      <td>332.000000</td>\n",
       "      <td>418.000000</td>\n",
       "      <td>418.000000</td>\n",
       "      <td>417.000000</td>\n",
       "    </tr>\n",
       "    <tr>\n",
       "      <th>mean</th>\n",
       "      <td>1100.500000</td>\n",
       "      <td>2.265550</td>\n",
       "      <td>30.272590</td>\n",
       "      <td>0.447368</td>\n",
       "      <td>0.392344</td>\n",
       "      <td>35.627188</td>\n",
       "    </tr>\n",
       "    <tr>\n",
       "      <th>std</th>\n",
       "      <td>120.810458</td>\n",
       "      <td>0.841838</td>\n",
       "      <td>14.181209</td>\n",
       "      <td>0.896760</td>\n",
       "      <td>0.981429</td>\n",
       "      <td>55.907576</td>\n",
       "    </tr>\n",
       "    <tr>\n",
       "      <th>min</th>\n",
       "      <td>892.000000</td>\n",
       "      <td>1.000000</td>\n",
       "      <td>0.170000</td>\n",
       "      <td>0.000000</td>\n",
       "      <td>0.000000</td>\n",
       "      <td>0.000000</td>\n",
       "    </tr>\n",
       "    <tr>\n",
       "      <th>25%</th>\n",
       "      <td>996.250000</td>\n",
       "      <td>1.000000</td>\n",
       "      <td>21.000000</td>\n",
       "      <td>0.000000</td>\n",
       "      <td>0.000000</td>\n",
       "      <td>7.895800</td>\n",
       "    </tr>\n",
       "    <tr>\n",
       "      <th>50%</th>\n",
       "      <td>1100.500000</td>\n",
       "      <td>3.000000</td>\n",
       "      <td>27.000000</td>\n",
       "      <td>0.000000</td>\n",
       "      <td>0.000000</td>\n",
       "      <td>14.454200</td>\n",
       "    </tr>\n",
       "    <tr>\n",
       "      <th>75%</th>\n",
       "      <td>1204.750000</td>\n",
       "      <td>3.000000</td>\n",
       "      <td>39.000000</td>\n",
       "      <td>1.000000</td>\n",
       "      <td>0.000000</td>\n",
       "      <td>31.500000</td>\n",
       "    </tr>\n",
       "    <tr>\n",
       "      <th>max</th>\n",
       "      <td>1309.000000</td>\n",
       "      <td>3.000000</td>\n",
       "      <td>76.000000</td>\n",
       "      <td>8.000000</td>\n",
       "      <td>9.000000</td>\n",
       "      <td>512.329200</td>\n",
       "    </tr>\n",
       "  </tbody>\n",
       "</table>\n",
       "</div>"
      ],
      "text/plain": [
       "       PassengerId      Pclass         Age       SibSp       Parch        Fare\n",
       "count   418.000000  418.000000  332.000000  418.000000  418.000000  417.000000\n",
       "mean   1100.500000    2.265550   30.272590    0.447368    0.392344   35.627188\n",
       "std     120.810458    0.841838   14.181209    0.896760    0.981429   55.907576\n",
       "min     892.000000    1.000000    0.170000    0.000000    0.000000    0.000000\n",
       "25%     996.250000    1.000000   21.000000    0.000000    0.000000    7.895800\n",
       "50%    1100.500000    3.000000   27.000000    0.000000    0.000000   14.454200\n",
       "75%    1204.750000    3.000000   39.000000    1.000000    0.000000   31.500000\n",
       "max    1309.000000    3.000000   76.000000    8.000000    9.000000  512.329200"
      ]
     },
     "execution_count": 21,
     "metadata": {},
     "output_type": "execute_result"
    }
   ],
   "source": [
    "test_data.describe()"
   ]
  },
  {
   "cell_type": "code",
   "execution_count": 22,
   "metadata": {
    "_uuid": "5a44e8b2fae4af9a3e94ccf0980fce617303f7e6",
    "colab": {
     "base_uri": "https://localhost:8080/",
     "height": 206
    },
    "colab_type": "code",
    "id": "DX4sxpbiChss",
    "outputId": "b57d26d8-0bf4-4077-f03d-506ab83d7f81"
   },
   "outputs": [
    {
     "data": {
      "text/html": [
       "<div>\n",
       "<style scoped>\n",
       "    .dataframe tbody tr th:only-of-type {\n",
       "        vertical-align: middle;\n",
       "    }\n",
       "\n",
       "    .dataframe tbody tr th {\n",
       "        vertical-align: top;\n",
       "    }\n",
       "\n",
       "    .dataframe thead th {\n",
       "        text-align: right;\n",
       "    }\n",
       "</style>\n",
       "<table border=\"1\" class=\"dataframe\">\n",
       "  <thead>\n",
       "    <tr style=\"text-align: right;\">\n",
       "      <th></th>\n",
       "      <th>PassengerId</th>\n",
       "      <th>Pclass</th>\n",
       "      <th>Name</th>\n",
       "      <th>Sex</th>\n",
       "      <th>Age</th>\n",
       "      <th>SibSp</th>\n",
       "      <th>Parch</th>\n",
       "      <th>Ticket</th>\n",
       "      <th>Fare</th>\n",
       "      <th>Cabin</th>\n",
       "      <th>Embarked</th>\n",
       "    </tr>\n",
       "  </thead>\n",
       "  <tbody>\n",
       "    <tr>\n",
       "      <th>0</th>\n",
       "      <td>892</td>\n",
       "      <td>3</td>\n",
       "      <td>Kelly, Mr. James</td>\n",
       "      <td>male</td>\n",
       "      <td>34.5</td>\n",
       "      <td>0</td>\n",
       "      <td>0</td>\n",
       "      <td>330911</td>\n",
       "      <td>7.8292</td>\n",
       "      <td>NaN</td>\n",
       "      <td>Q</td>\n",
       "    </tr>\n",
       "    <tr>\n",
       "      <th>1</th>\n",
       "      <td>893</td>\n",
       "      <td>3</td>\n",
       "      <td>Wilkes, Mrs. James (Ellen Needs)</td>\n",
       "      <td>female</td>\n",
       "      <td>47.0</td>\n",
       "      <td>1</td>\n",
       "      <td>0</td>\n",
       "      <td>363272</td>\n",
       "      <td>7.0000</td>\n",
       "      <td>NaN</td>\n",
       "      <td>S</td>\n",
       "    </tr>\n",
       "    <tr>\n",
       "      <th>2</th>\n",
       "      <td>894</td>\n",
       "      <td>2</td>\n",
       "      <td>Myles, Mr. Thomas Francis</td>\n",
       "      <td>male</td>\n",
       "      <td>62.0</td>\n",
       "      <td>0</td>\n",
       "      <td>0</td>\n",
       "      <td>240276</td>\n",
       "      <td>9.6875</td>\n",
       "      <td>NaN</td>\n",
       "      <td>Q</td>\n",
       "    </tr>\n",
       "    <tr>\n",
       "      <th>3</th>\n",
       "      <td>895</td>\n",
       "      <td>3</td>\n",
       "      <td>Wirz, Mr. Albert</td>\n",
       "      <td>male</td>\n",
       "      <td>27.0</td>\n",
       "      <td>0</td>\n",
       "      <td>0</td>\n",
       "      <td>315154</td>\n",
       "      <td>8.6625</td>\n",
       "      <td>NaN</td>\n",
       "      <td>S</td>\n",
       "    </tr>\n",
       "    <tr>\n",
       "      <th>4</th>\n",
       "      <td>896</td>\n",
       "      <td>3</td>\n",
       "      <td>Hirvonen, Mrs. Alexander (Helga E Lindqvist)</td>\n",
       "      <td>female</td>\n",
       "      <td>22.0</td>\n",
       "      <td>1</td>\n",
       "      <td>1</td>\n",
       "      <td>3101298</td>\n",
       "      <td>12.2875</td>\n",
       "      <td>NaN</td>\n",
       "      <td>S</td>\n",
       "    </tr>\n",
       "  </tbody>\n",
       "</table>\n",
       "</div>"
      ],
      "text/plain": [
       "   PassengerId  Pclass                                          Name     Sex  \\\n",
       "0          892       3                              Kelly, Mr. James    male   \n",
       "1          893       3              Wilkes, Mrs. James (Ellen Needs)  female   \n",
       "2          894       2                     Myles, Mr. Thomas Francis    male   \n",
       "3          895       3                              Wirz, Mr. Albert    male   \n",
       "4          896       3  Hirvonen, Mrs. Alexander (Helga E Lindqvist)  female   \n",
       "\n",
       "    Age  SibSp  Parch   Ticket     Fare Cabin Embarked  \n",
       "0  34.5      0      0   330911   7.8292   NaN        Q  \n",
       "1  47.0      1      0   363272   7.0000   NaN        S  \n",
       "2  62.0      0      0   240276   9.6875   NaN        Q  \n",
       "3  27.0      0      0   315154   8.6625   NaN        S  \n",
       "4  22.0      1      1  3101298  12.2875   NaN        S  "
      ]
     },
     "execution_count": 22,
     "metadata": {},
     "output_type": "execute_result"
    }
   ],
   "source": [
    "test_data.head()"
   ]
  },
  {
   "cell_type": "code",
   "execution_count": 23,
   "metadata": {},
   "outputs": [
    {
     "name": "stdout",
     "output_type": "stream",
     "text": [
      "<class 'pandas.core.frame.DataFrame'>\n",
      "RangeIndex: 891 entries, 0 to 890\n",
      "Data columns (total 12 columns):\n",
      " #   Column       Non-Null Count  Dtype  \n",
      "---  ------       --------------  -----  \n",
      " 0   PassengerId  891 non-null    int64  \n",
      " 1   Survived     891 non-null    int64  \n",
      " 2   Pclass       891 non-null    int64  \n",
      " 3   Name         891 non-null    object \n",
      " 4   Sex          891 non-null    object \n",
      " 5   Age          714 non-null    float64\n",
      " 6   SibSp        891 non-null    int64  \n",
      " 7   Parch        891 non-null    int64  \n",
      " 8   Ticket       891 non-null    object \n",
      " 9   Fare         891 non-null    float64\n",
      " 10  Cabin        204 non-null    object \n",
      " 11  Embarked     889 non-null    object \n",
      "dtypes: float64(2), int64(5), object(5)\n",
      "memory usage: 83.7+ KB\n"
     ]
    }
   ],
   "source": [
    "train_data.info()"
   ]
  },
  {
   "cell_type": "code",
   "execution_count": 24,
   "metadata": {},
   "outputs": [
    {
     "name": "stdout",
     "output_type": "stream",
     "text": [
      "<class 'pandas.core.frame.DataFrame'>\n",
      "RangeIndex: 418 entries, 0 to 417\n",
      "Data columns (total 11 columns):\n",
      " #   Column       Non-Null Count  Dtype  \n",
      "---  ------       --------------  -----  \n",
      " 0   PassengerId  418 non-null    int64  \n",
      " 1   Pclass       418 non-null    int64  \n",
      " 2   Name         418 non-null    object \n",
      " 3   Sex          418 non-null    object \n",
      " 4   Age          332 non-null    float64\n",
      " 5   SibSp        418 non-null    int64  \n",
      " 6   Parch        418 non-null    int64  \n",
      " 7   Ticket       418 non-null    object \n",
      " 8   Fare         417 non-null    float64\n",
      " 9   Cabin        91 non-null     object \n",
      " 10  Embarked     418 non-null    object \n",
      "dtypes: float64(2), int64(4), object(5)\n",
      "memory usage: 36.0+ KB\n"
     ]
    }
   ],
   "source": [
    "test_data.info()"
   ]
  },
  {
   "cell_type": "markdown",
   "metadata": {},
   "source": [
    "#### Other / reference / deprecated"
   ]
  },
  {
   "cell_type": "code",
   "execution_count": 11,
   "metadata": {
    "_uuid": "23cdefe3f0739ca28c1fec918d05b2f158680c48",
    "colab": {
     "base_uri": "https://localhost:8080/",
     "height": 206
    },
    "colab_type": "code",
    "id": "BC8_QrWDChsw",
    "outputId": "c62befb6-5104-449c-d018-c74ebb234267"
   },
   "outputs": [
    {
     "data": {
      "text/plain": [
       "Index(['PassengerId', 'Pclass', 'Name', 'Sex', 'Age', 'SibSp', 'Parch',\n",
       "       'Ticket', 'Fare', 'Cabin', 'Embarked'],\n",
       "      dtype='object')"
      ]
     },
     "execution_count": 11,
     "metadata": {},
     "output_type": "execute_result"
    }
   ],
   "source": [
    "columns = test_data.columns\n",
    "columns"
   ]
  },
  {
   "cell_type": "code",
   "execution_count": 12,
   "metadata": {
    "_uuid": "2bc1317b99ff1a01dd0263fc8561e80f68359675",
    "colab": {
     "base_uri": "https://localhost:8080/",
     "height": 72
    },
    "colab_type": "code",
    "id": "jBwL0pPIChsz",
    "outputId": "4b8f30b4-eeb8-4f6f-edc6-cc77aac7868b"
   },
   "outputs": [
    {
     "data": {
      "text/plain": [
       "Index(['PassengerId', 'Survived', 'Pclass', 'Name', 'Sex', 'Age', 'SibSp',\n",
       "       'Parch', 'Ticket', 'Fare', 'Cabin', 'Embarked'],\n",
       "      dtype='object')"
      ]
     },
     "execution_count": 12,
     "metadata": {},
     "output_type": "execute_result"
    }
   ],
   "source": [
    "train_data.columns"
   ]
  },
  {
   "cell_type": "code",
   "execution_count": 13,
   "metadata": {
    "_uuid": "43b87045c82e2125de0ef031b4246281a61dd812",
    "colab": {
     "base_uri": "https://localhost:8080/",
     "height": 72
    },
    "colab_type": "code",
    "id": "K0qHpOq8Chs3",
    "outputId": "9e71da4f-2417-4d2d-b23d-d502d64e73f6"
   },
   "outputs": [
    {
     "data": {
      "text/plain": [
       "['PassengerId',\n",
       " 'Survived',\n",
       " 'Pclass',\n",
       " 'Name',\n",
       " 'Sex',\n",
       " 'Age',\n",
       " 'SibSp',\n",
       " 'Parch',\n",
       " 'Ticket',\n",
       " 'Fare',\n",
       " 'Cabin',\n",
       " 'Embarked']"
      ]
     },
     "execution_count": 13,
     "metadata": {},
     "output_type": "execute_result"
    }
   ],
   "source": [
    "ALL_FEATURES = ['PassengerId', 'Survived', 'Pclass', 'Name', 'Sex', 'Age', 'SibSp',\n",
    "       'Parch', 'Ticket', 'Fare', 'Cabin', 'Embarked']\n",
    "ALL_FEATURES"
   ]
  },
  {
   "cell_type": "code",
   "execution_count": 14,
   "metadata": {
    "colab": {
     "base_uri": "https://localhost:8080/",
     "height": 237
    },
    "colab_type": "code",
    "id": "dLlsdM-fChs5",
    "outputId": "adf8a66f-062f-454e-e81e-3410acd29637"
   },
   "outputs": [
    {
     "data": {
      "text/plain": [
       "['Pclass', 'Sex', 'Age', 'SibSp', 'Parch', 'Fare', 'Embarked']"
      ]
     },
     "execution_count": 14,
     "metadata": {},
     "output_type": "execute_result"
    }
   ],
   "source": [
    "# features = [ 'Pclass', 'Name', 'Sex', 'Age', 'SibSp','Parch', 'Ticket', 'Fare', 'Cabin', 'Embarked']\n",
    "features = [ 'Pclass', 'Sex', 'Age', 'SibSp','Parch', 'Fare', 'Embarked']\n",
    "features"
   ]
  },
  {
   "cell_type": "code",
   "execution_count": 11,
   "metadata": {
    "_uuid": "9bf6aae972a0e5b022dcff404ad610613bb5170a",
    "colab": {
     "base_uri": "https://localhost:8080/",
     "height": 35
    },
    "colab_type": "code",
    "id": "wvrW4XYpChs9",
    "outputId": "6c783b69-5108-489c-b0b7-7d5be04df90f"
   },
   "outputs": [
    {
     "data": {
      "text/html": [
       "<div>\n",
       "<style scoped>\n",
       "    .dataframe tbody tr th:only-of-type {\n",
       "        vertical-align: middle;\n",
       "    }\n",
       "\n",
       "    .dataframe tbody tr th {\n",
       "        vertical-align: top;\n",
       "    }\n",
       "\n",
       "    .dataframe thead th {\n",
       "        text-align: right;\n",
       "    }\n",
       "</style>\n",
       "<table border=\"1\" class=\"dataframe\">\n",
       "  <thead>\n",
       "    <tr style=\"text-align: right;\">\n",
       "      <th></th>\n",
       "      <th>Pclass</th>\n",
       "      <th>Sex</th>\n",
       "      <th>Age</th>\n",
       "      <th>SibSp</th>\n",
       "      <th>Parch</th>\n",
       "      <th>Fare</th>\n",
       "      <th>Embarked</th>\n",
       "    </tr>\n",
       "  </thead>\n",
       "  <tbody>\n",
       "    <tr>\n",
       "      <th>0</th>\n",
       "      <td>3</td>\n",
       "      <td>male</td>\n",
       "      <td>22.0</td>\n",
       "      <td>1</td>\n",
       "      <td>0</td>\n",
       "      <td>7.2500</td>\n",
       "      <td>S</td>\n",
       "    </tr>\n",
       "    <tr>\n",
       "      <th>1</th>\n",
       "      <td>1</td>\n",
       "      <td>female</td>\n",
       "      <td>38.0</td>\n",
       "      <td>1</td>\n",
       "      <td>0</td>\n",
       "      <td>71.2833</td>\n",
       "      <td>C</td>\n",
       "    </tr>\n",
       "    <tr>\n",
       "      <th>2</th>\n",
       "      <td>3</td>\n",
       "      <td>female</td>\n",
       "      <td>26.0</td>\n",
       "      <td>0</td>\n",
       "      <td>0</td>\n",
       "      <td>7.9250</td>\n",
       "      <td>S</td>\n",
       "    </tr>\n",
       "    <tr>\n",
       "      <th>3</th>\n",
       "      <td>1</td>\n",
       "      <td>female</td>\n",
       "      <td>35.0</td>\n",
       "      <td>1</td>\n",
       "      <td>0</td>\n",
       "      <td>53.1000</td>\n",
       "      <td>S</td>\n",
       "    </tr>\n",
       "    <tr>\n",
       "      <th>4</th>\n",
       "      <td>3</td>\n",
       "      <td>male</td>\n",
       "      <td>35.0</td>\n",
       "      <td>0</td>\n",
       "      <td>0</td>\n",
       "      <td>8.0500</td>\n",
       "      <td>S</td>\n",
       "    </tr>\n",
       "  </tbody>\n",
       "</table>\n",
       "</div>"
      ],
      "text/plain": [
       "   Pclass     Sex   Age  SibSp  Parch     Fare Embarked\n",
       "0       3    male  22.0      1      0   7.2500        S\n",
       "1       1  female  38.0      1      0  71.2833        C\n",
       "2       3  female  26.0      0      0   7.9250        S\n",
       "3       1  female  35.0      1      0  53.1000        S\n",
       "4       3    male  35.0      0      0   8.0500        S"
      ]
     },
     "execution_count": 11,
     "metadata": {},
     "output_type": "execute_result"
    }
   ],
   "source": [
    "train_X = train_data[features]\n",
    "train_X.head()"
   ]
  },
  {
   "cell_type": "code",
   "execution_count": 15,
   "metadata": {
    "_uuid": "1f05516233f506962c79dd6fb60e02bfd91b7c55",
    "colab": {
     "base_uri": "https://localhost:8080/",
     "height": 206
    },
    "colab_type": "code",
    "id": "-tXRCKO_Chs_",
    "outputId": "741ad582-b0ae-416b-e55d-456ad50dd72a"
   },
   "outputs": [
    {
     "data": {
      "text/plain": [
       "177"
      ]
     },
     "execution_count": 15,
     "metadata": {},
     "output_type": "execute_result"
    }
   ],
   "source": [
    "# [col for col in train_data.columns if train_data[col].isnull().any()]\n",
    "\n",
    "len(train_data[train_data['Age'].isnull()])\n",
    "\n",
    "# len(train_data)"
   ]
  },
  {
   "cell_type": "code",
   "execution_count": 25,
   "metadata": {
    "colab": {
     "base_uri": "https://localhost:8080/",
     "height": 35
    },
    "colab_type": "code",
    "id": "ebBG49lmChtD",
    "outputId": "8c489f2e-404b-41f1-b67d-2e6e06944513"
   },
   "outputs": [
    {
     "data": {
      "text/plain": [
       "891"
      ]
     },
     "execution_count": 25,
     "metadata": {
      "tags": []
     },
     "output_type": "execute_result"
    }
   ],
   "source": [
    "[col for col in train_data.columns if train_data[col].isnull().any()]\n",
    "\n",
    "len(train_data[train_data['Age'].isnull()])\n",
    "\n",
    "len(train_data)"
   ]
  },
  {
   "cell_type": "code",
   "execution_count": null,
   "metadata": {
    "_uuid": "bdddc96f37a9fbeebe7439e894c5551140644dce",
    "colab": {},
    "colab_type": "code",
    "id": "UlZefK3YChtJ"
   },
   "outputs": [],
   "source": [
    "missing_val_count_by_column = (train_X.isnull().sum())\n",
    "missing_val_count_by_column\n",
    "# print(missing_val_count_by_column[missing_val_count_by_column > 0"
   ]
  },
  {
   "cell_type": "code",
   "execution_count": null,
   "metadata": {
    "_uuid": "21e2388887f15f5a38a1602101239562831e2d56",
    "colab": {},
    "colab_type": "code",
    "id": "k9F-F_PCChtL"
   },
   "outputs": [],
   "source": [
    "train_X[\"Sex\"] =  [0 if ((sex == 'female') or (sex == 0)) else 1 for sex in train_X[\"Sex\"]]\n",
    "train_X[\"Embarked\"] =  [0 if ((embarked == 'C') or (embarked == 0)) else 1 if ((embarked == 'Q') or (embarked == 1)) else 2 for embarked in train_X[\"Embarked\"]]\n",
    "train_X.head()"
   ]
  },
  {
   "cell_type": "code",
   "execution_count": null,
   "metadata": {
    "_uuid": "9f36fde4eecc1dc6e3dc63b151354d9d65c93751",
    "colab": {},
    "colab_type": "code",
    "id": "C-qfp7FiChtN"
   },
   "outputs": [],
   "source": [
    "age_mean = train_X.Age.mean()\n",
    "age_mean"
   ]
  },
  {
   "cell_type": "code",
   "execution_count": null,
   "metadata": {
    "_uuid": "2e6095453709d566da7b09e79a5b2054ca9ce62f",
    "colab": {},
    "colab_type": "code",
    "id": "QSWfdmJiChtP"
   },
   "outputs": [],
   "source": [
    "train_X = train_X.fillna({'Age': age_mean, 'Embarked': 0})"
   ]
  },
  {
   "cell_type": "code",
   "execution_count": null,
   "metadata": {
    "_uuid": "941f180865f60a8cef1358dce37e7d91d4473ab4",
    "colab": {},
    "colab_type": "code",
    "id": "KgZHAhQ9ChtS"
   },
   "outputs": [],
   "source": [
    "missing_val_count_by_column = (train_X.isnull().sum())\n",
    "missing_val_count_by_column"
   ]
  },
  {
   "cell_type": "code",
   "execution_count": null,
   "metadata": {
    "_uuid": "7aebe5d353a5b36dbb6d57b1a333d5551472b707",
    "colab": {},
    "colab_type": "code",
    "id": "SfWJD6fkChtV"
   },
   "outputs": [],
   "source": [
    "train_y = train_data.Survived\n",
    "train_y.head()"
   ]
  },
  {
   "cell_type": "code",
   "execution_count": null,
   "metadata": {
    "_uuid": "759118109db7b7bdfec288c918be7385d1e102f6",
    "colab": {},
    "colab_type": "code",
    "id": "TWiKZExXChtW"
   },
   "outputs": [],
   "source": [
    "from sklearn.ensemble import RandomForestRegressor\n",
    "rf_model = RandomForestRegressor(random_state=1)"
   ]
  },
  {
   "cell_type": "code",
   "execution_count": null,
   "metadata": {
    "_uuid": "6dbdbf5d9cfc11e2ab4b077c41f3066b0ea9974d",
    "colab": {},
    "colab_type": "code",
    "id": "WXqhw7RcChtc"
   },
   "outputs": [],
   "source": [
    "rf_model.fit(train_X, train_y)"
   ]
  },
  {
   "cell_type": "code",
   "execution_count": null,
   "metadata": {
    "_uuid": "bcaeaa4e07d8b6ceed11b6ea8c207342ce40881f",
    "colab": {},
    "colab_type": "code",
    "id": "ltLm38tWChte"
   },
   "outputs": [],
   "source": [
    "test_X = test_data[features]\n",
    "test_X.head()"
   ]
  },
  {
   "cell_type": "code",
   "execution_count": null,
   "metadata": {
    "_uuid": "1be6f9ac68c702a3bbddd18d49dbdb5cf514815d",
    "colab": {},
    "colab_type": "code",
    "id": "yF4FcbQfChti"
   },
   "outputs": [],
   "source": [
    "missing_val_count_by_column = (test_X.isnull().sum())\n",
    "missing_val_count_by_column"
   ]
  },
  {
   "cell_type": "code",
   "execution_count": null,
   "metadata": {
    "_uuid": "48f15a8437f849be89ce89edde9fdcf7042f2ea3",
    "colab": {},
    "colab_type": "code",
    "id": "MqDpg0G4Chtk"
   },
   "outputs": [],
   "source": [
    "test_X[\"Sex\"] =  [0 if ((sex == 'female') or (sex == 0)) else 1 for sex in test_X[\"Sex\"]]\n",
    "test_X[\"Embarked\"] =  [0 if ((embarked == 'C') or (embarked == 0)) else 1 if ((embarked == 'Q') or (embarked == 1)) else 2 for embarked in test_X[\"Embarked\"]]\n",
    "test_X.head()"
   ]
  },
  {
   "cell_type": "code",
   "execution_count": null,
   "metadata": {
    "_uuid": "20a9b51b87c3f19c2a206858941cfa399a163c76",
    "colab": {},
    "colab_type": "code",
    "id": "OGgP2A6wChtm"
   },
   "outputs": [],
   "source": [
    "test_age_mean = test_X.Age.mean()\n",
    "test_fare_mean = test_X.Fare.mean()"
   ]
  },
  {
   "cell_type": "code",
   "execution_count": null,
   "metadata": {
    "_uuid": "8a2bd607e9b6a7031462fdc8d6dfe4431e5fb7cf",
    "colab": {},
    "colab_type": "code",
    "id": "ribvf6AxChtp"
   },
   "outputs": [],
   "source": [
    "test_X = test_X.fillna({'Age': test_age_mean, 'Fare': test_fare_mean})"
   ]
  },
  {
   "cell_type": "code",
   "execution_count": null,
   "metadata": {
    "_uuid": "be8fb9bc487f1362e657c00d8a2625e969a5e920",
    "colab": {},
    "colab_type": "code",
    "id": "R7dUEbyBChtq"
   },
   "outputs": [],
   "source": [
    "missing_val_count_by_column = (test_X.isnull().sum())\n",
    "missing_val_count_by_column"
   ]
  },
  {
   "cell_type": "code",
   "execution_count": null,
   "metadata": {
    "_uuid": "3ac383036139fe64f98014366bc1a21395ef7166",
    "colab": {},
    "colab_type": "code",
    "id": "NJqgVGwbChts"
   },
   "outputs": [],
   "source": [
    "test_preds = rf_model.predict(test_X)\n",
    "test_preds[:10]"
   ]
  },
  {
   "cell_type": "code",
   "execution_count": null,
   "metadata": {
    "_uuid": "7d3da7b57b8a9194107b45d95b86dfdcea586ee5",
    "colab": {},
    "colab_type": "code",
    "id": "Eu8W_LpWChtu"
   },
   "outputs": [],
   "source": [
    "threshold = 0.5\n",
    "test_preds = [0 if pred<threshold else 1 for pred in test_preds]\n",
    "test_preds[:10]"
   ]
  },
  {
   "cell_type": "code",
   "execution_count": null,
   "metadata": {
    "_cell_guid": "79c7e3d0-c299-4dcb-8224-4455121ee9b0",
    "_uuid": "d629ff2d2480ee46fbb7e2d37f6b5fab8052498a",
    "colab": {},
    "colab_type": "code",
    "id": "zzc78vTlChtx"
   },
   "outputs": [],
   "source": [
    "output = pd.DataFrame({'PassengerId': test_data.PassengerId,\n",
    "                      'Survived': test_preds})\n",
    "output.to_csv('submission.csv', index=False)"
   ]
  },
  {
   "cell_type": "code",
   "execution_count": null,
   "metadata": {
    "colab": {},
    "colab_type": "code",
    "id": "jRSyexbjChtz"
   },
   "outputs": [],
   "source": [
    "[col for col in [1,2,3,4] if col!=1]"
   ]
  },
  {
   "cell_type": "code",
   "execution_count": null,
   "metadata": {
    "colab": {},
    "colab_type": "code",
    "id": "yl9sg9fAaKKf"
   },
   "outputs": [],
   "source": [
    "import xgboost as xgb\n",
    "from sklearn.metrics import mean_absolute_error\n",
    "\n",
    "# read in data\n",
    "dtrain = xgb.DMatrix(trains_X.values, trains_Y.values)\n",
    "dtest = xgb.DMatrix(test_X.values)\n",
    "# specify parameters via map\n",
    "param = {'max_depth':2, 'eta':1, 'objective':'binary:logistic' }\n",
    "num_round = 2\n",
    "bst = xgb.train(param, dtrain, num_round)\n",
    "# make prediction\n",
    "preds = bst.predict(dtest)\n",
    "\n",
    "mean_absolute_error(preds, )"
   ]
  }
 ],
 "metadata": {
  "colab": {
   "include_colab_link": true,
   "name": "(xgboost) htbkoo_Titanic_ Machine Learning.ipynb",
   "provenance": []
  },
  "kernelspec": {
   "display_name": "Python 3",
   "language": "python",
   "name": "python3"
  },
  "language_info": {
   "codemirror_mode": {
    "name": "ipython",
    "version": 3
   },
   "file_extension": ".py",
   "mimetype": "text/x-python",
   "name": "python",
   "nbconvert_exporter": "python",
   "pygments_lexer": "ipython3",
   "version": "3.6.9"
  }
 },
 "nbformat": 4,
 "nbformat_minor": 4
}
