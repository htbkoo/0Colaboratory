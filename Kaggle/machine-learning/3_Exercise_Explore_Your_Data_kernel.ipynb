{
  "cells": [
    {
      "metadata": {
        "_uuid": "2d26d98bc3419aa474441501e1f0091bd841c5cd"
      },
      "cell_type": "markdown",
      "source": "**[Machine Learning Course Home Page](https://www.kaggle.com/learn/machine-learning)**\n\n---\n"
    },
    {
      "metadata": {
        "_uuid": "be252816db672dd27ca5ae1f0bd08d2c4a2695f0"
      },
      "cell_type": "markdown",
      "source": "This exercise will test your ability to read a data file and understand statistics about the data.\n\nIn later exercises, you will apply techniques to filter the data, build a machine learning model, and iteratively improve your model.\n\nThe course examples use data from Melbourne. To ensure you can apply these techniques on your own, you will have to apply them to a new dataset (with house prices from Iowa).\n\nThe exercises use a \"notebook\" coding environment.  In case you are unfamiliar with notebooks, we have a [90-second intro video](https://www.youtube.com/watch?v=4C2qMnaIKL4).\n\n# Exercises\n\nRun the following cell to set up code-checking, which will verify your work as you go."
    },
    {
      "metadata": {
        "_uuid": "a08968db0e32bac662a979bbf98cbadea063890a",
        "trusted": true
      },
      "cell_type": "code",
      "source": "# Set up code checking\nfrom learntools.core import binder\nbinder.bind(globals())\nfrom learntools.machine_learning.ex2 import *\nprint(\"Setup Complete\")",
      "execution_count": 1,
      "outputs": [
        {
          "output_type": "stream",
          "text": "Setup Complete\n",
          "name": "stdout"
        }
      ]
    },
    {
      "metadata": {
        "_uuid": "68a6a4a88359eb8d2dcf404f3b9ed38e1e16d029"
      },
      "cell_type": "markdown",
      "source": "## Step 1: Loading Data\nRead the Iowa data file into a Pandas DataFrame called `home_data`."
    },
    {
      "metadata": {
        "_uuid": "ec7a62e3afc47c4b5d344cdca10bf44d2f2c826d",
        "trusted": true
      },
      "cell_type": "code",
      "source": "import pandas as pd\n\n# Path of the file to read\niowa_file_path = '../input/home-data-for-ml-course/train.csv'\n\n# Fill in the line below to read the file into a variable home_data\nhome_data = pd.read_csv(iowa_file_path)\n\n# Call line below with no argument to check that you've loaded the data correctly\nstep_1.check()",
      "execution_count": 2,
      "outputs": [
        {
          "output_type": "display_data",
          "data": {
            "text/plain": "<IPython.core.display.Javascript object>",
            "application/javascript": "parent.postMessage({\"jupyterEvent\": \"custom.exercise_interaction\", \"data\": {\"outcomeType\": 1, \"valueTowardsCompletion\": 0.5, \"interactionType\": 1, \"learnTutorialId\": 118, \"questionId\": \"1_LoadHomeData\", \"learnToolsVersion\": \"0.2.11\", \"failureMessage\": \"\", \"exceptionClass\": \"\", \"trace\": \"\"}}, \"*\")"
          },
          "metadata": {}
        },
        {
          "output_type": "display_data",
          "data": {
            "text/plain": "Correct",
            "text/markdown": "<span style=\"color:#33cc33\">Correct</span>"
          },
          "metadata": {}
        }
      ]
    },
    {
      "metadata": {
        "_uuid": "ba4bc3769a31c6cfbe16780a7a0bff445dbd664f",
        "trusted": true
      },
      "cell_type": "code",
      "source": "# Lines below will give you a hint or solution code\nstep_1.hint()\nstep_1.solution()",
      "execution_count": 3,
      "outputs": [
        {
          "output_type": "display_data",
          "data": {
            "text/plain": "<IPython.core.display.Javascript object>",
            "application/javascript": "parent.postMessage({\"jupyterEvent\": \"custom.exercise_interaction\", \"data\": {\"interactionType\": 2, \"learnTutorialId\": 118, \"questionId\": \"1_LoadHomeData\", \"learnToolsVersion\": \"0.2.11\", \"valueTowardsCompletion\": 0.0, \"failureMessage\": \"\", \"exceptionClass\": \"\", \"trace\": \"\", \"outcomeType\": 4}}, \"*\")"
          },
          "metadata": {}
        },
        {
          "output_type": "display_data",
          "data": {
            "text/plain": "Hint: Use the `pd.read_csv` function",
            "text/markdown": "<span style=\"color:#3366cc\">Hint:</span> Use the `pd.read_csv` function"
          },
          "metadata": {}
        },
        {
          "output_type": "display_data",
          "data": {
            "text/plain": "<IPython.core.display.Javascript object>",
            "application/javascript": "parent.postMessage({\"jupyterEvent\": \"custom.exercise_interaction\", \"data\": {\"interactionType\": 3, \"learnTutorialId\": 118, \"questionId\": \"1_LoadHomeData\", \"learnToolsVersion\": \"0.2.11\", \"valueTowardsCompletion\": 0.0, \"failureMessage\": \"\", \"exceptionClass\": \"\", \"trace\": \"\", \"outcomeType\": 4}}, \"*\")"
          },
          "metadata": {}
        },
        {
          "output_type": "display_data",
          "data": {
            "text/plain": "Solution: \n```python\nhome_data = pd.read_csv(iowa_file_path)\n```",
            "text/markdown": "<span style=\"color:#33cc99\">Solution:</span> \n```python\nhome_data = pd.read_csv(iowa_file_path)\n```"
          },
          "metadata": {}
        }
      ]
    },
    {
      "metadata": {
        "_uuid": "19724229049f6e46d81aea20c8d04144efa48e96"
      },
      "cell_type": "markdown",
      "source": "## Step 2: Review The Data\nUse the command you learned to view summary statistics of the data. Then fill in variables to answer the following questions"
    },
    {
      "metadata": {
        "_uuid": "58332980ecb370a40d564066901c9ea1f8400371",
        "trusted": true
      },
      "cell_type": "code",
      "source": "# Print summary statistics in next line\nhome_data.describe()",
      "execution_count": 4,
      "outputs": [
        {
          "output_type": "execute_result",
          "execution_count": 4,
          "data": {
            "text/plain": "                Id   MSSubClass      ...             YrSold      SalePrice\ncount  1460.000000  1460.000000      ...        1460.000000    1460.000000\nmean    730.500000    56.897260      ...        2007.815753  180921.195890\nstd     421.610009    42.300571      ...           1.328095   79442.502883\nmin       1.000000    20.000000      ...        2006.000000   34900.000000\n25%     365.750000    20.000000      ...        2007.000000  129975.000000\n50%     730.500000    50.000000      ...        2008.000000  163000.000000\n75%    1095.250000    70.000000      ...        2009.000000  214000.000000\nmax    1460.000000   190.000000      ...        2010.000000  755000.000000\n\n[8 rows x 38 columns]",
            "text/html": "<div>\n<style scoped>\n    .dataframe tbody tr th:only-of-type {\n        vertical-align: middle;\n    }\n\n    .dataframe tbody tr th {\n        vertical-align: top;\n    }\n\n    .dataframe thead th {\n        text-align: right;\n    }\n</style>\n<table border=\"1\" class=\"dataframe\">\n  <thead>\n    <tr style=\"text-align: right;\">\n      <th></th>\n      <th>Id</th>\n      <th>MSSubClass</th>\n      <th>LotFrontage</th>\n      <th>LotArea</th>\n      <th>OverallQual</th>\n      <th>OverallCond</th>\n      <th>YearBuilt</th>\n      <th>YearRemodAdd</th>\n      <th>MasVnrArea</th>\n      <th>BsmtFinSF1</th>\n      <th>BsmtFinSF2</th>\n      <th>BsmtUnfSF</th>\n      <th>TotalBsmtSF</th>\n      <th>1stFlrSF</th>\n      <th>2ndFlrSF</th>\n      <th>LowQualFinSF</th>\n      <th>GrLivArea</th>\n      <th>BsmtFullBath</th>\n      <th>BsmtHalfBath</th>\n      <th>FullBath</th>\n      <th>HalfBath</th>\n      <th>BedroomAbvGr</th>\n      <th>KitchenAbvGr</th>\n      <th>TotRmsAbvGrd</th>\n      <th>Fireplaces</th>\n      <th>GarageYrBlt</th>\n      <th>GarageCars</th>\n      <th>GarageArea</th>\n      <th>WoodDeckSF</th>\n      <th>OpenPorchSF</th>\n      <th>EnclosedPorch</th>\n      <th>3SsnPorch</th>\n      <th>ScreenPorch</th>\n      <th>PoolArea</th>\n      <th>MiscVal</th>\n      <th>MoSold</th>\n      <th>YrSold</th>\n      <th>SalePrice</th>\n    </tr>\n  </thead>\n  <tbody>\n    <tr>\n      <th>count</th>\n      <td>1460.000000</td>\n      <td>1460.000000</td>\n      <td>1201.000000</td>\n      <td>1460.000000</td>\n      <td>1460.000000</td>\n      <td>1460.000000</td>\n      <td>1460.000000</td>\n      <td>1460.000000</td>\n      <td>1452.000000</td>\n      <td>1460.000000</td>\n      <td>1460.000000</td>\n      <td>1460.000000</td>\n      <td>1460.000000</td>\n      <td>1460.000000</td>\n      <td>1460.000000</td>\n      <td>1460.000000</td>\n      <td>1460.000000</td>\n      <td>1460.000000</td>\n      <td>1460.000000</td>\n      <td>1460.000000</td>\n      <td>1460.000000</td>\n      <td>1460.000000</td>\n      <td>1460.000000</td>\n      <td>1460.000000</td>\n      <td>1460.000000</td>\n      <td>1379.000000</td>\n      <td>1460.000000</td>\n      <td>1460.000000</td>\n      <td>1460.000000</td>\n      <td>1460.000000</td>\n      <td>1460.000000</td>\n      <td>1460.000000</td>\n      <td>1460.000000</td>\n      <td>1460.000000</td>\n      <td>1460.000000</td>\n      <td>1460.000000</td>\n      <td>1460.000000</td>\n      <td>1460.000000</td>\n    </tr>\n    <tr>\n      <th>mean</th>\n      <td>730.500000</td>\n      <td>56.897260</td>\n      <td>70.049958</td>\n      <td>10516.828082</td>\n      <td>6.099315</td>\n      <td>5.575342</td>\n      <td>1971.267808</td>\n      <td>1984.865753</td>\n      <td>103.685262</td>\n      <td>443.639726</td>\n      <td>46.549315</td>\n      <td>567.240411</td>\n      <td>1057.429452</td>\n      <td>1162.626712</td>\n      <td>346.992466</td>\n      <td>5.844521</td>\n      <td>1515.463699</td>\n      <td>0.425342</td>\n      <td>0.057534</td>\n      <td>1.565068</td>\n      <td>0.382877</td>\n      <td>2.866438</td>\n      <td>1.046575</td>\n      <td>6.517808</td>\n      <td>0.613014</td>\n      <td>1978.506164</td>\n      <td>1.767123</td>\n      <td>472.980137</td>\n      <td>94.244521</td>\n      <td>46.660274</td>\n      <td>21.954110</td>\n      <td>3.409589</td>\n      <td>15.060959</td>\n      <td>2.758904</td>\n      <td>43.489041</td>\n      <td>6.321918</td>\n      <td>2007.815753</td>\n      <td>180921.195890</td>\n    </tr>\n    <tr>\n      <th>std</th>\n      <td>421.610009</td>\n      <td>42.300571</td>\n      <td>24.284752</td>\n      <td>9981.264932</td>\n      <td>1.382997</td>\n      <td>1.112799</td>\n      <td>30.202904</td>\n      <td>20.645407</td>\n      <td>181.066207</td>\n      <td>456.098091</td>\n      <td>161.319273</td>\n      <td>441.866955</td>\n      <td>438.705324</td>\n      <td>386.587738</td>\n      <td>436.528436</td>\n      <td>48.623081</td>\n      <td>525.480383</td>\n      <td>0.518911</td>\n      <td>0.238753</td>\n      <td>0.550916</td>\n      <td>0.502885</td>\n      <td>0.815778</td>\n      <td>0.220338</td>\n      <td>1.625393</td>\n      <td>0.644666</td>\n      <td>24.689725</td>\n      <td>0.747315</td>\n      <td>213.804841</td>\n      <td>125.338794</td>\n      <td>66.256028</td>\n      <td>61.119149</td>\n      <td>29.317331</td>\n      <td>55.757415</td>\n      <td>40.177307</td>\n      <td>496.123024</td>\n      <td>2.703626</td>\n      <td>1.328095</td>\n      <td>79442.502883</td>\n    </tr>\n    <tr>\n      <th>min</th>\n      <td>1.000000</td>\n      <td>20.000000</td>\n      <td>21.000000</td>\n      <td>1300.000000</td>\n      <td>1.000000</td>\n      <td>1.000000</td>\n      <td>1872.000000</td>\n      <td>1950.000000</td>\n      <td>0.000000</td>\n      <td>0.000000</td>\n      <td>0.000000</td>\n      <td>0.000000</td>\n      <td>0.000000</td>\n      <td>334.000000</td>\n      <td>0.000000</td>\n      <td>0.000000</td>\n      <td>334.000000</td>\n      <td>0.000000</td>\n      <td>0.000000</td>\n      <td>0.000000</td>\n      <td>0.000000</td>\n      <td>0.000000</td>\n      <td>0.000000</td>\n      <td>2.000000</td>\n      <td>0.000000</td>\n      <td>1900.000000</td>\n      <td>0.000000</td>\n      <td>0.000000</td>\n      <td>0.000000</td>\n      <td>0.000000</td>\n      <td>0.000000</td>\n      <td>0.000000</td>\n      <td>0.000000</td>\n      <td>0.000000</td>\n      <td>0.000000</td>\n      <td>1.000000</td>\n      <td>2006.000000</td>\n      <td>34900.000000</td>\n    </tr>\n    <tr>\n      <th>25%</th>\n      <td>365.750000</td>\n      <td>20.000000</td>\n      <td>59.000000</td>\n      <td>7553.500000</td>\n      <td>5.000000</td>\n      <td>5.000000</td>\n      <td>1954.000000</td>\n      <td>1967.000000</td>\n      <td>0.000000</td>\n      <td>0.000000</td>\n      <td>0.000000</td>\n      <td>223.000000</td>\n      <td>795.750000</td>\n      <td>882.000000</td>\n      <td>0.000000</td>\n      <td>0.000000</td>\n      <td>1129.500000</td>\n      <td>0.000000</td>\n      <td>0.000000</td>\n      <td>1.000000</td>\n      <td>0.000000</td>\n      <td>2.000000</td>\n      <td>1.000000</td>\n      <td>5.000000</td>\n      <td>0.000000</td>\n      <td>1961.000000</td>\n      <td>1.000000</td>\n      <td>334.500000</td>\n      <td>0.000000</td>\n      <td>0.000000</td>\n      <td>0.000000</td>\n      <td>0.000000</td>\n      <td>0.000000</td>\n      <td>0.000000</td>\n      <td>0.000000</td>\n      <td>5.000000</td>\n      <td>2007.000000</td>\n      <td>129975.000000</td>\n    </tr>\n    <tr>\n      <th>50%</th>\n      <td>730.500000</td>\n      <td>50.000000</td>\n      <td>69.000000</td>\n      <td>9478.500000</td>\n      <td>6.000000</td>\n      <td>5.000000</td>\n      <td>1973.000000</td>\n      <td>1994.000000</td>\n      <td>0.000000</td>\n      <td>383.500000</td>\n      <td>0.000000</td>\n      <td>477.500000</td>\n      <td>991.500000</td>\n      <td>1087.000000</td>\n      <td>0.000000</td>\n      <td>0.000000</td>\n      <td>1464.000000</td>\n      <td>0.000000</td>\n      <td>0.000000</td>\n      <td>2.000000</td>\n      <td>0.000000</td>\n      <td>3.000000</td>\n      <td>1.000000</td>\n      <td>6.000000</td>\n      <td>1.000000</td>\n      <td>1980.000000</td>\n      <td>2.000000</td>\n      <td>480.000000</td>\n      <td>0.000000</td>\n      <td>25.000000</td>\n      <td>0.000000</td>\n      <td>0.000000</td>\n      <td>0.000000</td>\n      <td>0.000000</td>\n      <td>0.000000</td>\n      <td>6.000000</td>\n      <td>2008.000000</td>\n      <td>163000.000000</td>\n    </tr>\n    <tr>\n      <th>75%</th>\n      <td>1095.250000</td>\n      <td>70.000000</td>\n      <td>80.000000</td>\n      <td>11601.500000</td>\n      <td>7.000000</td>\n      <td>6.000000</td>\n      <td>2000.000000</td>\n      <td>2004.000000</td>\n      <td>166.000000</td>\n      <td>712.250000</td>\n      <td>0.000000</td>\n      <td>808.000000</td>\n      <td>1298.250000</td>\n      <td>1391.250000</td>\n      <td>728.000000</td>\n      <td>0.000000</td>\n      <td>1776.750000</td>\n      <td>1.000000</td>\n      <td>0.000000</td>\n      <td>2.000000</td>\n      <td>1.000000</td>\n      <td>3.000000</td>\n      <td>1.000000</td>\n      <td>7.000000</td>\n      <td>1.000000</td>\n      <td>2002.000000</td>\n      <td>2.000000</td>\n      <td>576.000000</td>\n      <td>168.000000</td>\n      <td>68.000000</td>\n      <td>0.000000</td>\n      <td>0.000000</td>\n      <td>0.000000</td>\n      <td>0.000000</td>\n      <td>0.000000</td>\n      <td>8.000000</td>\n      <td>2009.000000</td>\n      <td>214000.000000</td>\n    </tr>\n    <tr>\n      <th>max</th>\n      <td>1460.000000</td>\n      <td>190.000000</td>\n      <td>313.000000</td>\n      <td>215245.000000</td>\n      <td>10.000000</td>\n      <td>9.000000</td>\n      <td>2010.000000</td>\n      <td>2010.000000</td>\n      <td>1600.000000</td>\n      <td>5644.000000</td>\n      <td>1474.000000</td>\n      <td>2336.000000</td>\n      <td>6110.000000</td>\n      <td>4692.000000</td>\n      <td>2065.000000</td>\n      <td>572.000000</td>\n      <td>5642.000000</td>\n      <td>3.000000</td>\n      <td>2.000000</td>\n      <td>3.000000</td>\n      <td>2.000000</td>\n      <td>8.000000</td>\n      <td>3.000000</td>\n      <td>14.000000</td>\n      <td>3.000000</td>\n      <td>2010.000000</td>\n      <td>4.000000</td>\n      <td>1418.000000</td>\n      <td>857.000000</td>\n      <td>547.000000</td>\n      <td>552.000000</td>\n      <td>508.000000</td>\n      <td>480.000000</td>\n      <td>738.000000</td>\n      <td>15500.000000</td>\n      <td>12.000000</td>\n      <td>2010.000000</td>\n      <td>755000.000000</td>\n    </tr>\n  </tbody>\n</table>\n</div>"
          },
          "metadata": {}
        }
      ]
    },
    {
      "metadata": {
        "_uuid": "f44ada66d365de5bf6a6bbb55ed2fddcc68277f5",
        "trusted": true
      },
      "cell_type": "code",
      "source": "# What is the average lot size (rounded to nearest integer)?\navg_lot_size = round(home_data[\"LotArea\"].mean(), 0)\n\n# As of today, how old is the newest home (current year - the date in which it was built)\nnewest_home_age = datetime.date.today().year - home_data[\"YearBuilt\"].max()\n\n# Checks your answers\nstep_2.check()",
      "execution_count": 20,
      "outputs": [
        {
          "output_type": "display_data",
          "data": {
            "text/plain": "<IPython.core.display.Javascript object>",
            "application/javascript": "parent.postMessage({\"jupyterEvent\": \"custom.exercise_interaction\", \"data\": {\"outcomeType\": 1, \"valueTowardsCompletion\": 0.5, \"interactionType\": 1, \"learnTutorialId\": 118, \"questionId\": \"2_HomeDescription\", \"learnToolsVersion\": \"0.2.11\", \"failureMessage\": \"\", \"exceptionClass\": \"\", \"trace\": \"\"}}, \"*\")"
          },
          "metadata": {}
        },
        {
          "output_type": "display_data",
          "data": {
            "text/plain": "Correct",
            "text/markdown": "<span style=\"color:#33cc33\">Correct</span>"
          },
          "metadata": {}
        }
      ]
    },
    {
      "metadata": {
        "_uuid": "5252c0ce1703bbff5d4c8c1e7d11104ff686dc14",
        "trusted": true
      },
      "cell_type": "code",
      "source": "step_2.hint()\nstep_2.solution()",
      "execution_count": 22,
      "outputs": [
        {
          "output_type": "display_data",
          "data": {
            "text/plain": "<IPython.core.display.Javascript object>",
            "application/javascript": "parent.postMessage({\"jupyterEvent\": \"custom.exercise_interaction\", \"data\": {\"interactionType\": 2, \"learnTutorialId\": 118, \"questionId\": \"2_HomeDescription\", \"learnToolsVersion\": \"0.2.11\", \"valueTowardsCompletion\": 0.0, \"failureMessage\": \"\", \"exceptionClass\": \"\", \"trace\": \"\", \"outcomeType\": 4}}, \"*\")"
          },
          "metadata": {}
        },
        {
          "output_type": "display_data",
          "data": {
            "text/plain": "Hint: Run the describe command. Lot size is in the column called LotArea. Also look at YearBuilt. Remember to round lot size ",
            "text/markdown": "<span style=\"color:#3366cc\">Hint:</span> Run the describe command. Lot size is in the column called LotArea. Also look at YearBuilt. Remember to round lot size "
          },
          "metadata": {}
        },
        {
          "output_type": "display_data",
          "data": {
            "text/plain": "<IPython.core.display.Javascript object>",
            "application/javascript": "parent.postMessage({\"jupyterEvent\": \"custom.exercise_interaction\", \"data\": {\"interactionType\": 3, \"learnTutorialId\": 118, \"questionId\": \"2_HomeDescription\", \"learnToolsVersion\": \"0.2.11\", \"valueTowardsCompletion\": 0.0, \"failureMessage\": \"\", \"exceptionClass\": \"\", \"trace\": \"\", \"outcomeType\": 4}}, \"*\")"
          },
          "metadata": {}
        },
        {
          "output_type": "display_data",
          "data": {
            "text/plain": "Solution: \n```python\n# using data read from home_data.describe()\navg_lot_size = 10517\nnewest_home_age = 8\n\n```",
            "text/markdown": "<span style=\"color:#33cc99\">Solution:</span> \n```python\n# using data read from home_data.describe()\navg_lot_size = 10517\nnewest_home_age = 8\n\n```"
          },
          "metadata": {}
        }
      ]
    },
    {
      "metadata": {
        "_uuid": "5f380cee67030373e10ef9c168c05a977c5e1e1e"
      },
      "cell_type": "markdown",
      "source": "## Think About Your Data\n\nThe newest house in your data isn't that new.  A few potential explanations for this:\n1. They haven't built new houses where this data was collected.\n1. The data was collected a long time ago. Houses built after the data publication wouldn't show up.\n\nIf the reason is explanation #1 above, does that affect your trust in the model you build with this data? What about if it is reason #2?\n\nHow could you dig into the data to see which explanation is more plausible?\n\nCheck out this **[discussion thread](https://www.kaggle.com/learn-forum/60581)** to see what others think or to add your ideas.\n\n# Keep Going\n\nYou are ready for **[Your First Machine Learning Model](https://www.kaggle.com/dansbecker/your-first-machine-learning-model).**\n"
    },
    {
      "metadata": {
        "_uuid": "839b8808ce24cb476e32007878315b3d2861ffe3"
      },
      "cell_type": "markdown",
      "source": "---\n**[Machine Learning Course Home Page](https://www.kaggle.com/learn/machine-learning)**\n\n"
    }
  ],
  "metadata": {
    "kernelspec": {
      "display_name": "Python 3",
      "language": "python",
      "name": "python3"
    },
    "language_info": {
      "name": "python",
      "version": "3.6.6",
      "mimetype": "text/x-python",
      "codemirror_mode": {
        "name": "ipython",
        "version": 3
      },
      "pygments_lexer": "ipython3",
      "nbconvert_exporter": "python",
      "file_extension": ".py"
    }
  },
  "nbformat": 4,
  "nbformat_minor": 1
}